{
 "cells": [
  {
   "cell_type": "markdown",
   "metadata": {},
   "source": [
    "# Introduction To Python Programming\n",
    "\n",
    "\n",
    "\n",
    "Python is the most popular language used for porgramming in the data science domain and a major reason for this is because of it's simplicity. While Python focuses on simplicity and ease of use, at the same time it sacrifices on speed, safety etc. However as a data scientist issues like safety and speed are not of much importance to us right now and when they do, we will use other frameworks designed specifically for production level systems.\n",
    "\n",
    "In this tutorial we will go through basic Python programming techniques that will be essential in getting started with machine learning, deep learning, data visualization and other data science related programming tasks. This guide is however not comprehensive. It is just a means to get ourselves comfortable with Python. For an in depth Python tutorial you can always refer the officical Python documentation.\n",
    "\n",
    "*For this tutorial, we will be using Python 3 (Python 3.6 or higher) so please ensure you have Python 3 installed on your computer. A good way to go through these tutorials is to type the commands and execute them along the way.*"
   ]
  },
  {
   "cell_type": "markdown",
   "metadata": {},
   "source": [
    "## The Programming Environment\n",
    "\n",
    "Python files are saved as `file_name.py` files and running them is quite easy. Here, we will go through 3 of the most popular approaches to Python programming and help you get started:\n",
    "\n",
    "- **Using Jupyter Notebook**\n",
    "This is the easiest approach to getting up and started with Python. This however requires extra software installation (Anaconda). You can download Anaconda distribution from [here.](https://www.anaconda.com/distribution/)\n",
    "Once istalled, run Jupyter Notebook, create a new notebook and you can get started immediately. A quick guide to Jypyter Notebook can be found [here.](https://medium.com/codingthesmartway-com-blog/getting-started-with-jupyter-notebook-for-python-4e7082bd5d46)\n",
    "\n",
    "- **Using A Text Editor**\n",
    "A text editor is a program that lets you write code in a language of your choice and provides additional features like *syntax hilighting*, *code completion* etc. Popular text editors include [Atom,](https://atom.io/) [Sublime Text,](https://www.sublimetext.com/) [Visual Studio Code](https://code.visualstudio.com/) etc. The steps involved are:\n",
    " * Create a new Python 3 file and write code and save it.\n",
    " * Open terminal and navigate to the location where the file was saved.\n",
    " * Type `python3 file_name.py` to execute. If there are no errors, the file will run and the output will be visible on the terminal itself.\n",
    " \n",
    "- **Using IDE**\n",
    "An Integrated Development Environment (IDE) is a software that provides a complete package which includes a text editor, a compiler, a debugger, a project tracker etc. These are however best suited for commercial or production level software development and beginners best stay away from there. That being said, [PyCharm](https://www.jetbrains.com/pycharm/) is a popular Python IDE.\n",
    "\n",
    "*Alternatively, if you dont want to go through any of the above steps, you can visit [Google Colab](https://colab.research.google.com/notebooks/welcome.ipynb) and execute your Python commands online using Google's servers.*"
   ]
  },
  {
   "cell_type": "markdown",
   "metadata": {},
   "source": [
    "## Topics Covered\n",
    "\n",
    "- Introduction\n",
    "  * Printing\n",
    "  * Formatted Printing\n",
    "  * Taking Input From User\n",
    "  * File Handling\n",
    "  * Data Types\n",
    "  \n",
    "- Loops\n",
    "  * Different Types of Python Loops\n",
    "  * How Loops Work\n",
    "  * Examples\n",
    "  \n",
    "- Lists\n",
    "  * Introduction\n",
    "  * Examples\n",
    "  * Functions\n",
    "  \n",
    "- Functions And Strings\n",
    "  * Different Types of Functions\n",
    "  * Passing Arguments To Functions\n",
    "  * Returning Values\n",
    "  * String Manipulation\n",
    "  \n",
    "- Tuples\n",
    "  * Introduction\n",
    "  * Different Types of Tuples\n",
    "  \n",
    "- Dictionaries\n",
    "  * Introduction\n",
    "  * Examples\n",
    "  * Functions\n",
    "  \n",
    "- Counters And Sets\n",
    "  * Difference Between Counters and Sets\n",
    "  * Examples\n",
    "  \n",
    "- Conditionals\n",
    "  * Different Conditional Expressions In Python\n",
    "  * Examples"
   ]
  },
  {
   "cell_type": "code",
   "execution_count": 1,
   "metadata": {},
   "outputs": [
    {
     "name": "stdout",
     "output_type": "stream",
     "text": [
      "3.6.7 |Anaconda, Inc.| (default, Oct 23 2018, 14:01:38) \n",
      "[GCC 4.2.1 Compatible Clang 4.0.1 (tags/RELEASE_401/final)]\n"
     ]
    }
   ],
   "source": [
    "# This is the command to check the version of Python \n",
    "# More in import statements later\n",
    "import sys\n",
    "print(sys.version)"
   ]
  },
  {
   "cell_type": "markdown",
   "metadata": {},
   "source": [
    "## Introduction\n",
    "\n",
    "### Printing\n",
    "The `print()` command is used to output values to the Python console. It supports strings which are enclosed between `'...'` (single quotes) or `\"...\"` (double quotes). Print also supports variables, functions and data structures like lists, dictionaries etc.  \n",
    "\n",
    "To print a value we type `print('my_string')` or `print(\"my_string\")`. In general, there is no difference between '' and \"\" in Python. We can also print variable values as `print(my_variable)`. A variable in Python is a container that holds some value. In a more strict way, a variable refers to a location in main memory that holds some value and the name of the variable is how we identify that memory location. \n",
    "\n",
    "Let us now go through some examples."
   ]
  },
  {
   "cell_type": "code",
   "execution_count": 2,
   "metadata": {},
   "outputs": [
    {
     "name": "stdout",
     "output_type": "stream",
     "text": [
      "hello world\n",
      "hello world\n"
     ]
    }
   ],
   "source": [
    "# Simple print() statements\n",
    "print('hello world')\n",
    "print(\"hello world\")"
   ]
  },
  {
   "cell_type": "code",
   "execution_count": 5,
   "metadata": {},
   "outputs": [
    {
     "name": "stdout",
     "output_type": "stream",
     "text": [
      "hello world\n",
      "hello  world\n",
      "hello   world\n"
     ]
    }
   ],
   "source": [
    "# Using multiple values in the same print statement\n",
    "print('hello', 'world')\n",
    "print('hello ', 'world')\n",
    "print(\"hello\", \" \", \"world\")"
   ]
  },
  {
   "cell_type": "markdown",
   "metadata": {},
   "source": [
    "Note that Python by default adds a space between two print values even though we haven't specified it. For the remainder of the exercises we will be using `\"...\"` in `print()` statements and string variables and we will be using `'...'` in arguments to function calls."
   ]
  },
  {
   "cell_type": "code",
   "execution_count": 6,
   "metadata": {},
   "outputs": [
    {
     "name": "stdout",
     "output_type": "stream",
     "text": [
      "12\n",
      "hello world\n",
      "12 hello world\n",
      "John Doe\n"
     ]
    }
   ],
   "source": [
    "# Printing variable values\n",
    "var_num = 12\n",
    "var_str = \"hello world\"\n",
    "f_name = \"John\"\n",
    "l_name = \"Doe\"\n",
    "\n",
    "print(var_num)\n",
    "print(var_str)\n",
    "print(var_num, var_str)\n",
    "print(f_name, l_name)"
   ]
  },
  {
   "cell_type": "markdown",
   "metadata": {},
   "source": [
    "Python even supports expressions inside `print()` statements. An expression is a combination of variables and operators (like +, - etc.) which results in a value. An expression can also be a conditional expression which we will deal with later."
   ]
  },
  {
   "cell_type": "code",
   "execution_count": 8,
   "metadata": {},
   "outputs": [
    {
     "name": "stdout",
     "output_type": "stream",
     "text": [
      "6\n",
      "144\n",
      "64\n",
      "18.875\n",
      "3\n"
     ]
    }
   ],
   "source": [
    "print(12 - 6) # A simple expression\n",
    "print(12 ** 2) # 12 raised to the power 2; ** works as power operator in Python\n",
    "print(4 ** 3) # 4 raised to the power 3\n",
    "print(5 * 6 + 7 / 8 - 12) # A complex operation\n",
    "print(7 % 4) # Modulo operation, finds the remainder when 7 is divided by 4"
   ]
  },
  {
   "cell_type": "markdown",
   "metadata": {},
   "source": [
    "### Formatted Printing\n",
    "\n",
    "In formatted printing we embed variables inside a string using `{}` and then we put the variables inside the curly braces to output the contents of the variables. The string itself starts with `f` character which means *format* and denotes that we are printing a formatted string.\n",
    "\n",
    "A format string variable has to be defined (ie. declared before used) otherwise it will throw an error."
   ]
  },
  {
   "cell_type": "code",
   "execution_count": 9,
   "metadata": {},
   "outputs": [
    {
     "name": "stdout",
     "output_type": "stream",
     "text": [
      "this is my first hello world program\n"
     ]
    }
   ],
   "source": [
    "# Simple formatted output example\n",
    "var = \"hello world\"\n",
    "print(f\"this is my first {var} program\")"
   ]
  },
  {
   "cell_type": "code",
   "execution_count": 10,
   "metadata": {},
   "outputs": [
    {
     "name": "stdout",
     "output_type": "stream",
     "text": [
      "His name is John and he is 12 years old\n"
     ]
    }
   ],
   "source": [
    "# Formatted output variables can be of different types\n",
    "var_num = 12\n",
    "var_str = \"John\"\n",
    "print(f\"His name is {var_str} and he is {var_num} years old\")"
   ]
  },
  {
   "cell_type": "code",
   "execution_count": 12,
   "metadata": {},
   "outputs": [
    {
     "ename": "NameError",
     "evalue": "name 'my_var' is not defined",
     "output_type": "error",
     "traceback": [
      "\u001b[0;31m---------------------------------------------------------------------------\u001b[0m",
      "\u001b[0;31mNameError\u001b[0m                                 Traceback (most recent call last)",
      "\u001b[0;32m<ipython-input-12-6a30c2ea670a>\u001b[0m in \u001b[0;36m<module>\u001b[0;34m()\u001b[0m\n\u001b[1;32m      1\u001b[0m \u001b[0;31m# Using a variable without initializing\u001b[0m\u001b[0;34m\u001b[0m\u001b[0;34m\u001b[0m\u001b[0;34m\u001b[0m\u001b[0m\n\u001b[0;32m----> 2\u001b[0;31m \u001b[0mprint\u001b[0m\u001b[0;34m(\u001b[0m\u001b[0;34mf\"{my_var}\"\u001b[0m\u001b[0;34m)\u001b[0m\u001b[0;34m\u001b[0m\u001b[0;34m\u001b[0m\u001b[0m\n\u001b[0m",
      "\u001b[0;31mNameError\u001b[0m: name 'my_var' is not defined"
     ]
    }
   ],
   "source": [
    "# Using a variable without initializing\n",
    "print(f\"{my_var}\")"
   ]
  },
  {
   "cell_type": "markdown",
   "metadata": {},
   "source": [
    "This is how an error looks like in Python. We can try to fix our errors using the last error message ouput and slowly working up the chain of command to fix the various errors. In this case there is only 1 error message so there is no chain of command to follow up."
   ]
  },
  {
   "cell_type": "markdown",
   "metadata": {},
   "source": [
    "#### format() function\n",
    "\n",
    "- The `format()` allows us to do more complicated formatting of the string. It is a formatting function which allows multiple substitutions and value formatting.\n",
    "- This method lets us concatenate elements within a string through positional formatting.\n",
    "- They work by putting one or more replacement fields and placeholders defined by `{}` which is then filled up by a variable or a value.\n",
    "- If there are less number of arguments than `{}` we get an error and if there are more number of arguments than `{}` only the first *n* arguments are considered."
   ]
  },
  {
   "cell_type": "code",
   "execution_count": 13,
   "metadata": {},
   "outputs": [
    {
     "name": "stdout",
     "output_type": "stream",
     "text": [
      "10 20 30 4.5\n",
      "hello world 12 True\n"
     ]
    }
   ],
   "source": [
    "# A simple format() example\n",
    "formatter = \"{} {} {} {}\"\n",
    "print(formatter.format(10, 20, 30, 4.5))\n",
    "print(formatter.format(\"hello\", \"world\", 12, True))"
   ]
  },
  {
   "cell_type": "code",
   "execution_count": 14,
   "metadata": {},
   "outputs": [
    {
     "name": "stdout",
     "output_type": "stream",
     "text": [
      "{} {} {} -17 hello world 42\n",
      "{} {} {} {} {} {} {} {} {}\n"
     ]
    }
   ],
   "source": [
    "# A complex formatter example\n",
    "formatter = \"{} {} {}\"\n",
    "print(formatter.format(formatter, 12+3-8*4, \"hello world 42\"))\n",
    "print(formatter.format(formatter, formatter, formatter))"
   ]
  },
  {
   "cell_type": "code",
   "execution_count": 19,
   "metadata": {},
   "outputs": [
    {
     "name": "stdout",
     "output_type": "stream",
     "text": [
      "a b c {} {} {} 1.23 hello world -99\n"
     ]
    }
   ],
   "source": [
    "# An even more complex example\n",
    "formatter = \"{} {} {}\"\n",
    "print(formatter.format(formatter.format(\"a\", \"b\", \"c\"), formatter, formatter.format(1.23, \"hello world\", -99)))"
   ]
  },
  {
   "cell_type": "code",
   "execution_count": 20,
   "metadata": {},
   "outputs": [
    {
     "name": "stdout",
     "output_type": "stream",
     "text": [
      "10 -20 50\n"
     ]
    }
   ],
   "source": [
    "# Passing more arguments than the number of {}\n",
    "# Only the first n are considered, in this case n=3\n",
    "formatter = \"{} {} {}\"\n",
    "print(formatter.format(10, -20, 50, -40, -65))"
   ]
  },
  {
   "cell_type": "code",
   "execution_count": 21,
   "metadata": {},
   "outputs": [
    {
     "ename": "IndexError",
     "evalue": "tuple index out of range",
     "output_type": "error",
     "traceback": [
      "\u001b[0;31m---------------------------------------------------------------------------\u001b[0m",
      "\u001b[0;31mIndexError\u001b[0m                                Traceback (most recent call last)",
      "\u001b[0;32m<ipython-input-21-236069f1b6d7>\u001b[0m in \u001b[0;36m<module>\u001b[0;34m()\u001b[0m\n\u001b[1;32m      2\u001b[0m \u001b[0;31m# This will result in an error\u001b[0m\u001b[0;34m\u001b[0m\u001b[0;34m\u001b[0m\u001b[0;34m\u001b[0m\u001b[0m\n\u001b[1;32m      3\u001b[0m \u001b[0mformatter\u001b[0m \u001b[0;34m=\u001b[0m \u001b[0;34m\"{} {} {} {}\"\u001b[0m\u001b[0;34m\u001b[0m\u001b[0;34m\u001b[0m\u001b[0m\n\u001b[0;32m----> 4\u001b[0;31m \u001b[0mprint\u001b[0m\u001b[0;34m(\u001b[0m\u001b[0mformatter\u001b[0m\u001b[0;34m.\u001b[0m\u001b[0mformat\u001b[0m\u001b[0;34m(\u001b[0m\u001b[0;34m\"hello\"\u001b[0m\u001b[0;34m,\u001b[0m \u001b[0;36m12\u001b[0m\u001b[0;34m,\u001b[0m \u001b[0;34m\"world\"\u001b[0m\u001b[0;34m)\u001b[0m\u001b[0;34m)\u001b[0m\u001b[0;34m\u001b[0m\u001b[0;34m\u001b[0m\u001b[0m\n\u001b[0m",
      "\u001b[0;31mIndexError\u001b[0m: tuple index out of range"
     ]
    }
   ],
   "source": [
    "# Passing lesser arguments than the number of {}\n",
    "# This will result in an error\n",
    "formatter = \"{} {} {} {}\"\n",
    "print(formatter.format(\"hello\", 12, \"world\"))"
   ]
  },
  {
   "cell_type": "markdown",
   "metadata": {},
   "source": [
    "### Taking Inputs From User\n",
    "\n",
    "Python lets us take user input using the `input()` function. The `input()` function reads everything as a string. After taking input, we need to *typecast* the data to relevant type for further processing. *Typecasting* means to convert the data from one type to another. For eg. if we have to find the sum of 2 numbers, Python will read the input numbers as strings and using a *+* operations will lead to *concatenation* (ie. joining the second string to the end of the first string).\n",
    "\n",
    "However, through typecasting we can convert the data from string to integer format and then add them accordingly. This result will **not be** a concatenation operation, rather it will be a mathematical operation. The following examples will make things clear."
   ]
  },
  {
   "cell_type": "code",
   "execution_count": 22,
   "metadata": {},
   "outputs": [
    {
     "name": "stdout",
     "output_type": "stream",
     "text": [
      "enter a string : \n",
      "hello world\n",
      "entered string is hello world\n"
     ]
    }
   ],
   "source": [
    "# Simple string input demonstration\n",
    "print(\"enter a string : \")\n",
    "var_str = input()\n",
    "print(f\"entered string is {var_str}\")"
   ]
  },
  {
   "cell_type": "code",
   "execution_count": 23,
   "metadata": {},
   "outputs": [
    {
     "name": "stdout",
     "output_type": "stream",
     "text": [
      "enter a string : \n",
      "hello\n",
      "enter another string : \n",
      "World\n",
      "concatenated strings are :  helloWorld\n"
     ]
    }
   ],
   "source": [
    "# String concatenation example\n",
    "\n",
    "print(\"enter a string : \")\n",
    "var_str1 = input()\n",
    "print(\"enter another string : \")\n",
    "var_str2 = input()\n",
    "\n",
    "# Strings are concatenated using + operator\n",
    "print(\"concatenated strings are : \", var_str1 + var_str2)"
   ]
  },
  {
   "cell_type": "code",
   "execution_count": 24,
   "metadata": {},
   "outputs": [
    {
     "name": "stdout",
     "output_type": "stream",
     "text": [
      "enter a number : \n",
      "12\n",
      "enter another number : \n",
      "10\n",
      "The result of 12 + 10 is :  1210\n"
     ]
    }
   ],
   "source": [
    "# Concatenation of integers\n",
    "\n",
    "print(\"enter a number : \")\n",
    "var_num1 = input()\n",
    "print(\"enter another number : \")\n",
    "var_num2 = input()\n",
    "\n",
    "# Concatenation of 2 integers\n",
    "print(f\"The result of {var_num1} + {var_num2} is : \", var_num1 + var_num2)"
   ]
  },
  {
   "cell_type": "markdown",
   "metadata": {},
   "source": [
    "We can solve the problem of concatenation of numbers using **Typecasting**. Typecasting allows us to convert the string data to any other data type of our choice. This can be achieved by enclosing the `input()` command within the relevant data type.\n",
    "\n",
    "For eg. to convert string input to integer input we can typecast it as `int(input())`. This will ensure that all the string data is converted to relevant integer data. This however works for numbers. See what happens when the same is applied to string values like *hello world*, *example* etc."
   ]
  },
  {
   "cell_type": "code",
   "execution_count": 26,
   "metadata": {},
   "outputs": [
    {
     "name": "stdout",
     "output_type": "stream",
     "text": [
      "enter a number : \n",
      "12\n",
      "enter another number : \n",
      "10\n",
      "The result of 12 + 10 is :  22\n"
     ]
    }
   ],
   "source": [
    "# Typecasting string input to integer input\n",
    "\n",
    "print(\"enter a number : \")\n",
    "var_num1 = int(input())\n",
    "print(\"enter another number : \")\n",
    "var_num2 = int(input())\n",
    "\n",
    "# Sum of 2 integers\n",
    "print(f\"The result of {var_num1} + {var_num2} is : \", var_num1 + var_num2)"
   ]
  },
  {
   "cell_type": "code",
   "execution_count": 27,
   "metadata": {},
   "outputs": [
    {
     "name": "stdout",
     "output_type": "stream",
     "text": [
      "enter a string : \n",
      "hello world\n"
     ]
    },
    {
     "ename": "ValueError",
     "evalue": "invalid literal for int() with base 10: 'hello world'",
     "output_type": "error",
     "traceback": [
      "\u001b[0;31m---------------------------------------------------------------------------\u001b[0m",
      "\u001b[0;31mValueError\u001b[0m                                Traceback (most recent call last)",
      "\u001b[0;32m<ipython-input-27-3a882c3431cf>\u001b[0m in \u001b[0;36m<module>\u001b[0;34m()\u001b[0m\n\u001b[1;32m      1\u001b[0m \u001b[0;31m# Typecasting explicit strings to integers\u001b[0m\u001b[0;34m\u001b[0m\u001b[0;34m\u001b[0m\u001b[0;34m\u001b[0m\u001b[0m\n\u001b[1;32m      2\u001b[0m \u001b[0mprint\u001b[0m\u001b[0;34m(\u001b[0m\u001b[0;34m\"enter a string : \"\u001b[0m\u001b[0;34m)\u001b[0m\u001b[0;34m\u001b[0m\u001b[0;34m\u001b[0m\u001b[0m\n\u001b[0;32m----> 3\u001b[0;31m \u001b[0mmy_str\u001b[0m \u001b[0;34m=\u001b[0m \u001b[0mint\u001b[0m\u001b[0;34m(\u001b[0m\u001b[0minput\u001b[0m\u001b[0;34m(\u001b[0m\u001b[0;34m)\u001b[0m\u001b[0;34m)\u001b[0m\u001b[0;34m\u001b[0m\u001b[0;34m\u001b[0m\u001b[0m\n\u001b[0m\u001b[1;32m      4\u001b[0m \u001b[0mprint\u001b[0m\u001b[0;34m(\u001b[0m\u001b[0;34m\"entered string is : \"\u001b[0m\u001b[0;34m,\u001b[0m \u001b[0mmy_str\u001b[0m\u001b[0;34m)\u001b[0m\u001b[0;34m\u001b[0m\u001b[0;34m\u001b[0m\u001b[0m\n",
      "\u001b[0;31mValueError\u001b[0m: invalid literal for int() with base 10: 'hello world'"
     ]
    }
   ],
   "source": [
    "# Typecasting explicit strings to integers\n",
    "print(\"enter a string : \")\n",
    "my_str = int(input())\n",
    "print(\"entered string is : \", my_str)"
   ]
  },
  {
   "cell_type": "markdown",
   "metadata": {},
   "source": [
    "So we get an error which was expected because string representations of numbers can be converted to integers but they will not work with actual strings."
   ]
  },
  {
   "cell_type": "markdown",
   "metadata": {},
   "source": [
    "### File Handling\n",
    "\n",
    "*File Handling* is the technique of working with files. It involves opening and closing files, reading from files, writing to files etc. We can work with different file types in Python. These include text files, image files, binary files. spreadsheets, CSV files, JSON files etc. However in this example, we will limit ourselves to file operations using text files ie. `.txt` files.\n",
    "\n",
    "We can open a file using `open(filename)`, close the file using `object.close()` and read the entire contents of the file using `object.read()` commands. Let us first go through some examples and then figure out how basics of file handling works."
   ]
  },
  {
   "cell_type": "code",
   "execution_count": 33,
   "metadata": {},
   "outputs": [
    {
     "name": "stdout",
     "output_type": "stream",
     "text": [
      "CONTENTS OF sample.txt : \n",
      "==============================\n",
      "This is a sample line of text.\n",
      "This is a text file which has 5 lines.\n",
      "The quick brown fox jumps over the lazy dog.\n",
      "print(\"hello world\")\n",
      "-------------END------------------\n"
     ]
    }
   ],
   "source": [
    "# Specify the filename (wrong filename throws error)\n",
    "filename = \"sample.txt\"\n",
    "\n",
    "# Open the file\n",
    "txt = open(filename)\n",
    "\n",
    "# Read the contents of the file and print\n",
    "print(f\"CONTENTS OF {filename} : \")\n",
    "print(\"=\" * 30)\n",
    "print(txt.read())\n",
    "\n",
    "# Close the file\n",
    "txt.close()"
   ]
  },
  {
   "cell_type": "markdown",
   "metadata": {},
   "source": [
    "#### open(file, mode='r', ...)\n",
    "`open(...)` is a *function* that lets us open files on the disk. A *function* is a pre-defined piece of code that performs a pre programmed task. We will talk more about functions later.\n",
    "- Open a file and return a stream. Raise I/O Error upon failure.\n",
    "- `file` is either a text or byte string giving the name of the file to be opened.\n",
    "- `mode` is an optional parameter that specifies the mode in which the file is opened. Here `mode='r'` means open the file in *read-only* mode ie. the file can be read from but not written to. Read only mode is the default mode when opening files.\n",
    "- `open(...)` **does not** return the contents of the file. Rather, it just returns an *object* of the file which can be used to access the file. An object is a reference to something which gives us the location of the data and other relevant information. For example, we can think of variables as objects of particular data types that tell us where the data is stored in memory.\n",
    "\n",
    "#### close()\n",
    "`object.close()` is a function that lets us close the file after we are done using them.\n",
    "- It is always safe to close files after use to save resources.\n",
    "- Also, closing a file after use prevents it from getting modified unintentionally.\n",
    "\n",
    "#### read()\n",
    "`object.read()` is used to read *n* bytes from the input stream (in this example, a file). If the size of bytes to read is not specified it will read the whole file.\n",
    "- The result of `object.read()` can be assigned to a variable which can later be reused."
   ]
  },
  {
   "cell_type": "code",
   "execution_count": 34,
   "metadata": {},
   "outputs": [
    {
     "name": "stdout",
     "output_type": "stream",
     "text": [
      "This is a sampl\n"
     ]
    }
   ],
   "source": [
    "# Specify the file\n",
    "filename = \"sample.txt\"\n",
    "\n",
    "# Open the file\n",
    "txt = open(filename)\n",
    "\n",
    "# Read the first 15 bytes\n",
    "print(txt.read(15))\n",
    "\n",
    "# Close the file\n",
    "txt.close()"
   ]
  },
  {
   "cell_type": "markdown",
   "metadata": {},
   "source": [
    "#### write(\"string\")\n",
    "`object.write(\"string\")` writes \"string\" to the specified file.\n",
    "- It takes a parameter of the string we want to write to the file.\n",
    "- A varible containing string values, a reference to text, combination of string values all can be written to the file.\n",
    "- To write to a file we must ensure that the file is opened in `'w'` mode and not `'r'` mode.\n",
    "\n",
    "#### truncate()\n",
    "`object.truncate()` is a command that is used to empty the contents of the current file.\n",
    "- `truncate()` command empties the contents of the referenced file to prepare it for writing. Once a file has been truncated we can then write to it using `write(...)` command.\n",
    "- Actually speaking, opening a file in `'w'` mode clears it altogether but we still need to truncate the file to reset the file pointers to appropriate memory location before starting the write operation.\n",
    "\n",
    "#### readline()\n",
    "`object.readline()` reads one line of a text file.\n",
    "- It scans each byte of the file until it finds the `\\n` character and then stops reading the file.\n",
    "- It then returns whatever it has found so far.\n",
    "- `object.readline()` also returns the `\\n` character at the end of each line (till where it reads) and during printing we might get an extra blank. To prevent this, we can use `print(..., end='')`. This is because by default Python prints every `print(...)` statement on a new line.\n",
    "\n",
    "#### seek(n)\n",
    "`object.seek(n)` moves the read/write head (ie. a pointer to where the read/write operation will start) to the n-1 character. This is because the indexing of characters start from 0 position.\n",
    "- `target.seek(0)` will move the read/write head to the beginning of the file.\n",
    "- `target.seek(k)` will move the read/write head to the k-1 character in the file. However if k > n (where n is the total number of characters in the file) it will print an empty file.\n",
    "- `target.seek(-1)` will result in an error and the same is true for any negative value.\n",
    "- `target.seek(expr)` will move the read/write head to the result of expr-1 (where expr is a mathematical expression and it is evaluated first before moving the pointer. However if the result of expr < 0 then it will throw an error."
   ]
  },
  {
   "cell_type": "code",
   "execution_count": 35,
   "metadata": {},
   "outputs": [],
   "source": [
    "# Specify the filename\n",
    "filename = \"sample.txt\"\n",
    "\n",
    "# Open the file in 'w' mode\n",
    "obj = open(filename, 'w')"
   ]
  },
  {
   "cell_type": "markdown",
   "metadata": {},
   "source": [
    "Trying to read a file before it has been truncated (even though it is opened in 'w' mode leads to error)."
   ]
  },
  {
   "cell_type": "code",
   "execution_count": 36,
   "metadata": {},
   "outputs": [
    {
     "ename": "UnsupportedOperation",
     "evalue": "not readable",
     "output_type": "error",
     "traceback": [
      "\u001b[0;31m---------------------------------------------------------------------------\u001b[0m",
      "\u001b[0;31mUnsupportedOperation\u001b[0m                      Traceback (most recent call last)",
      "\u001b[0;32m<ipython-input-36-0f406bcc4cb7>\u001b[0m in \u001b[0;36m<module>\u001b[0;34m()\u001b[0m\n\u001b[1;32m      1\u001b[0m \u001b[0;31m# Read the file (this will cause error)\u001b[0m\u001b[0;34m\u001b[0m\u001b[0;34m\u001b[0m\u001b[0;34m\u001b[0m\u001b[0m\n\u001b[0;32m----> 2\u001b[0;31m \u001b[0mobj\u001b[0m\u001b[0;34m.\u001b[0m\u001b[0mread\u001b[0m\u001b[0;34m(\u001b[0m\u001b[0;34m)\u001b[0m\u001b[0;34m\u001b[0m\u001b[0;34m\u001b[0m\u001b[0m\n\u001b[0m",
      "\u001b[0;31mUnsupportedOperation\u001b[0m: not readable"
     ]
    }
   ],
   "source": [
    "# Read the file (this will cause error)\n",
    "obj.read()"
   ]
  },
  {
   "cell_type": "markdown",
   "metadata": {},
   "source": [
    "We can verify whether the 'w' operation clears a file or not. To do this, simply save the file by *closing* it and open it again in 'r' mode and then try to read it."
   ]
  },
  {
   "cell_type": "code",
   "execution_count": 38,
   "metadata": {},
   "outputs": [
    {
     "name": "stdout",
     "output_type": "stream",
     "text": [
      "CONTENTS OF sample.txt\n",
      "==============================\n",
      "\n"
     ]
    }
   ],
   "source": [
    "# Close the file\n",
    "obj.close()\n",
    "\n",
    "# Open the file again in 'r' mode\n",
    "obj = open(filename, 'r')\n",
    "\n",
    "# Read the contents of file and print\n",
    "print(f\"CONTENTS OF {filename}\")\n",
    "print(\"=\" * 30)\n",
    "print(obj.read())\n",
    "\n",
    "# Close the file again\n",
    "obj.close()"
   ]
  },
  {
   "cell_type": "markdown",
   "metadata": {},
   "source": [
    "Let us now write some data to the file."
   ]
  },
  {
   "cell_type": "code",
   "execution_count": 40,
   "metadata": {},
   "outputs": [],
   "source": [
    "# Specify the filename\n",
    "filename = \"sample.txt\"\n",
    "\n",
    "# Open the file in 'w' mode\n",
    "obj = open(filename, 'w')\n",
    "\n",
    "# Truncate the file to write data\n",
    "obj.truncate()\n",
    "\n",
    "# Prepare data to write to file\n",
    "my_string1 = \"the quick brown fox jumps over the lazy dog.\\n\"\n",
    "my_string2 = \"hello world\"\n",
    "my_string3 = \"this is a new line\"\n",
    "my_expr = 12 + 3 - 6 ** 2 * 8 / 12 - 9\n",
    "\n",
    "# Write some strings to the file\n",
    "obj.write(\"this is a new file\\n\")\n",
    "obj.write(\"this line should start on a new line \")\n",
    "obj.write(\"this line should also be on a new line ?\")\n",
    "obj.write(\"\\n\")\n",
    "\n",
    "# Write some variable values to the file\n",
    "obj.write(my_string1 + my_string2)\n",
    "obj.write(my_string2)\n",
    "obj.write(my_string3)\n",
    "obj.write(str(my_expr)) # since 'write()' only takes string data we have to typecast the argument first\n",
    "\n",
    "# Close the file.\n",
    "obj.close()"
   ]
  },
  {
   "cell_type": "markdown",
   "metadata": {},
   "source": [
    "Let us now check the file contents of `sample.txt` and then we will go through the other functions on file handling."
   ]
  },
  {
   "cell_type": "code",
   "execution_count": 41,
   "metadata": {},
   "outputs": [
    {
     "name": "stdout",
     "output_type": "stream",
     "text": [
      "CONTENTS OF sample.txt\n",
      "==============================\n",
      "this is a new file\n",
      "this line should start on a new line this line should also be on a new line ?\n",
      "the quick brown fox jumps over the lazy dog.\n",
      "hello worldhello worldthis is a new line-18.0\n"
     ]
    }
   ],
   "source": [
    "# Open the file in read mode\n",
    "obj = open(filename, 'r')\n",
    "\n",
    "# Read the contents and display.\n",
    "print(f\"CONTENTS OF {filename}\")\n",
    "print(\"=\" * 30)\n",
    "print(obj.read())\n",
    "\n",
    "# Close the file\n",
    "obj.close()"
   ]
  },
  {
   "cell_type": "markdown",
   "metadata": {},
   "source": [
    "Let us now see how `target.seek()` and `target.readline()` work and we will be further exploring how to add new data to already existing files, how to open/write to files that do not exist etc."
   ]
  },
  {
   "cell_type": "code",
   "execution_count": 42,
   "metadata": {},
   "outputs": [
    {
     "name": "stdout",
     "output_type": "stream",
     "text": [
      "this is a new file\n",
      "this line should start on a new line this line should also be on a new line ?\n",
      "the quick brown fox jumps over the lazy dog.\n",
      "hello worldhello worldthis is a new line-18.0\n"
     ]
    }
   ],
   "source": [
    "# Open the file in read mode\n",
    "obj = open(filename, 'r')\n",
    "\n",
    "# Print the contents of the file\n",
    "print(obj.read())"
   ]
  },
  {
   "cell_type": "markdown",
   "metadata": {},
   "source": [
    "If we now try to read the contents of the file again using `obj.read()` we will get a blank output because the read/write head has moved to the end of the file and there is nothing more to read. To solve this problem, we will need the `seek()` function. If we need to read any particular line of the file instead of the whole file we will use the `readline()` function alongwith the `seek()` function."
   ]
  },
  {
   "cell_type": "code",
   "execution_count": 45,
   "metadata": {},
   "outputs": [
    {
     "name": "stdout",
     "output_type": "stream",
     "text": [
      "\n"
     ]
    }
   ],
   "source": [
    "# Read the file again\n",
    "print(obj.read())"
   ]
  },
  {
   "cell_type": "code",
   "execution_count": 46,
   "metadata": {},
   "outputs": [
    {
     "name": "stdout",
     "output_type": "stream",
     "text": [
      "this is a new file\n",
      "this line should start on a new line this line should also be on a new line ?\n",
      "the quick brown fox jumps over the lazy dog.\n",
      "hello worldhello worldthis is a new line-18.0\n"
     ]
    }
   ],
   "source": [
    "# Set the pointer to the beginning\n",
    "obj.seek(0)\n",
    "\n",
    "# Read the file\n",
    "print(obj.read())"
   ]
  },
  {
   "cell_type": "code",
   "execution_count": 47,
   "metadata": {},
   "outputs": [
    {
     "name": "stdout",
     "output_type": "stream",
     "text": [
      "this is a new file\n",
      "\n"
     ]
    }
   ],
   "source": [
    "# Reset the pointer and read the first line\n",
    "obj.seek(0)\n",
    "print(obj.readline())"
   ]
  },
  {
   "cell_type": "code",
   "execution_count": 51,
   "metadata": {},
   "outputs": [
    {
     "name": "stdout",
     "output_type": "stream",
     "text": [
      "this is a new file\n"
     ]
    }
   ],
   "source": [
    "# Reset the pointer and read the first line without extra space\n",
    "obj.seek(0)\n",
    "print(obj.readline(), end='')"
   ]
  },
  {
   "cell_type": "code",
   "execution_count": 52,
   "metadata": {},
   "outputs": [
    {
     "name": "stdout",
     "output_type": "stream",
     "text": [
      "this line should start on a new line this line should also be on a new line ?\n",
      "on a new line this line should also be on a new line ?\n"
     ]
    }
   ],
   "source": [
    "# Read the next line and set the pointer to the 41st character and print a line from there\n",
    "print(obj.readline(), end='')\n",
    "obj.seek(42)\n",
    "print(obj.readline(), end='')\n",
    "\n",
    "# Close the file\n",
    "obj.close()"
   ]
  },
  {
   "cell_type": "markdown",
   "metadata": {},
   "source": [
    "#### Modes\n",
    "- **r** and **r+**\n",
    "  * This file mode is used to specify that a file is to be opened in *read-only* mode. \n",
    "  * A read only mode is a one where the user/program can only read the contents of the file but not modify it.\n",
    "  * Read mode throws an error when the specified file does not exist. If we want to open a file that does not exist in read only mode without throwing error we have to use **r+**.\n",
    "  \n",
    "- **w** and **w+**\n",
    "  * This file mode is used to specify that a file is to be opened in *write* mode which means that the user/program can modify the contents of the file. \n",
    "  * Opening a file in write mode however empties the contents of the entire file which may not be desirable always.\n",
    "  * If we want to open a non existing file in write mode without throwing errors, we have to use **w+** mode.\n",
    "  \n",
    "- **a** and **a+**\n",
    "  * This file mode is used to *append* data to an already existing file. Appending means to add more contents to the existing file without deleting the contents of the file.\n",
    "  * Append mode gives permission to modify the contents of the file without deleting it. It starts appending data from current position of the read/write head.\n",
    "  * If we want to append to a file that does not exist we can do it using **a+** mode without throwing errors."
   ]
  },
  {
   "cell_type": "code",
   "execution_count": 54,
   "metadata": {},
   "outputs": [
    {
     "name": "stdout",
     "output_type": "stream",
     "text": [
      "this is a new file\n",
      "this line should start on a new line this line should also be on a new line ?\n",
      "the quick brown fox jumps over the lazy dog.\n",
      "hello worldhello worldthis is a new line-18.0\n"
     ]
    }
   ],
   "source": [
    "# Open an existing file in read mode\n",
    "obj = open(filename, 'r')\n",
    "\n",
    "# Read the contents of the file\n",
    "print(obj.read())\n",
    "\n",
    "# Close the file\n",
    "obj.close()"
   ]
  },
  {
   "cell_type": "code",
   "execution_count": 59,
   "metadata": {},
   "outputs": [],
   "source": [
    "# Open the file in append mode\n",
    "obj = open(filename, 'a')\n",
    "\n",
    "# Add new contents to the end of the file\n",
    "obj.write(\"\\n\")\n",
    "obj.write(\"new line successfully appended!\\n\")\n",
    "obj.write(\"----END----\")\n",
    "\n",
    "# Close the file\n",
    "obj.close()"
   ]
  },
  {
   "cell_type": "markdown",
   "metadata": {},
   "source": [
    "Now if we open the file we will see that the new data has been appended to the file but the original contents are still intact."
   ]
  },
  {
   "cell_type": "code",
   "execution_count": 60,
   "metadata": {},
   "outputs": [
    {
     "name": "stdout",
     "output_type": "stream",
     "text": [
      "this is a new file\n",
      "this line should start on a new line this line should also be on a new line ?\n",
      "the quick brown fox jumps over the lazy dog.\n",
      "hello worldhello worldthis is a new line-18.0\n",
      "new line successfully appended!\n",
      "----END----\n"
     ]
    }
   ],
   "source": [
    "# Open the file in read mode\n",
    "obj = open(filename, 'r')\n",
    "\n",
    "# Read the contents of the file\n",
    "print(obj.read())\n",
    "\n",
    "# Close the file\n",
    "obj.close()"
   ]
  },
  {
   "cell_type": "code",
   "execution_count": 63,
   "metadata": {},
   "outputs": [],
   "source": [
    "# Open a file in w+ mode (opening this file in w mode will through error as it does not exist on disk)\n",
    "obj = open(\"randomXYZ.txt\", 'w+')\n",
    "\n",
    "# Truncate the file for writing\n",
    "obj.truncate()\n",
    "\n",
    "# Write some lines to the file\n",
    "obj.write(\"hello world\")\n",
    "obj.write(\"\\n\")\n",
    "obj.write(\"this is a new line\\n\")\n",
    "obj.write(str(-99))\n",
    "\n",
    "# Close the file\n",
    "obj.close()"
   ]
  },
  {
   "cell_type": "markdown",
   "metadata": {},
   "source": [
    "Let us now go through the contents of the random text file we just created."
   ]
  },
  {
   "cell_type": "code",
   "execution_count": 64,
   "metadata": {},
   "outputs": [
    {
     "name": "stdout",
     "output_type": "stream",
     "text": [
      "hello world\n",
      "this is a new line\n",
      "-99\n"
     ]
    }
   ],
   "source": [
    "# Open the file in read mode\n",
    "obj = open(\"randomXYZ.txt\", 'r')\n",
    "\n",
    "# Read the contents\n",
    "print(obj.read())\n",
    "\n",
    "# Close the file\n",
    "obj.close()"
   ]
  },
  {
   "cell_type": "code",
   "execution_count": 66,
   "metadata": {},
   "outputs": [
    {
     "name": "stdout",
     "output_type": "stream",
     "text": [
      "this is a new file\n",
      "this line should start on a new line this line should also be on a new line ?\n",
      "the quick brown fox jumps over the lazy dog.\n",
      "hello worldhello worldthis is a new line-18.0\n",
      "new line successfully appended!\n",
      "----END----hello world\n",
      "this is a new line\n",
      "-99\n"
     ]
    }
   ],
   "source": [
    "# Copy the contents of one file (source) to another (destination) in a single line\n",
    "source = \"sample.txt\"\n",
    "destination = \"sampleXYZ.txt\"\n",
    "open(destination, 'w+').write(open(source, 'r').read())\n",
    "\n",
    "# Append the contents of one file (source) to another (destination) in a single line\n",
    "source = \"randomXYZ.txt\"\n",
    "destination = \"sampleXYZ.txt\"\n",
    "open(destination, 'a').write(open(source, 'r').read())\n",
    "\n",
    "# Open the destination file and display it's contents\n",
    "obj = open(destination, 'r')\n",
    "print(obj.read())\n",
    "\n",
    "# Close the file\n",
    "obj.close()"
   ]
  },
  {
   "cell_type": "markdown",
   "metadata": {},
   "source": [
    "### Data Types\n",
    "\n",
    "The most common data types in Python that are of use to us are `int`, `float`, `str` and `bool`. \n",
    "\n",
    "- **Integer**\n",
    "Integers are non decimal numbers in Python and are represented using `int` keyword.\n",
    "- **Floating Point**\n",
    "Floating point numbers in Python are numbers with fractional parts. They are represented using `float` keyword.\n",
    "- **String**\n",
    "Strings in Python are represented by alphanumeric set of characters and can be numbers, aplhabets or combination of both. They are represented using `str` keyword.\n",
    "- **Boolean**\n",
    "Boolean values in Python are those which have only 2 values. In Python it is represented using `bool` keyword and contains `True` or `False` values."
   ]
  },
  {
   "cell_type": "code",
   "execution_count": 68,
   "metadata": {},
   "outputs": [
    {
     "name": "stdout",
     "output_type": "stream",
     "text": [
      "True\n",
      "False\n"
     ]
    }
   ],
   "source": [
    "# Boolean data example\n",
    "a = bool(1)\n",
    "b = bool(0)\n",
    "print(a)\n",
    "print(b)"
   ]
  },
  {
   "cell_type": "markdown",
   "metadata": {},
   "source": [
    "## Loops\n",
    "\n",
    "A loop is a technique of repeatedly executing the same set of instructions without explicitly writing the instructions every time we need it repeated. For example, if we want to print all the numbers from 0 to 9 we can do it by writing one `print()` statement and looping over it without hard coding 10 different loop statements. The most commonly used loops in Python are **for loops** and **while loops**.\n",
    "\n",
    "The body of both the loops contain instructions which we have to execute repeatedly but the instructions are indented inside the loop to indicate they are a part of the loop. Indentation is very important as it is the only way we can group a bunch of instructions under a loop.\n",
    "- **for loop**\n",
    " * It is the most commonly used loop in Python and can iterate over a range of values.\n",
    " * This loop works by first creating a buffer where the iteration indices are stores and then they are referenced to iterate over the actual data structure.\n",
    " * Since for loop creates the buffer when the loop is first called, changing the indices in the buffer are not possible and therefore we cannot skip over values.\n",
    " * The `range(a, b)` function in a for-loop includes `a` but excludes `b` so we need to specify `b+1` in order to count `b` also.\n",
    " \n",
    "- **while loop**\n",
    " * It is an alternative to the for loop which runs by evaluating a conditional expression.\n",
    " * As long as the conditional expression evaluates to *True* the while loop executes and halts immediately when the expression evaluates to *False*.\n",
    " * This loop does not create a temporary buffer for iteration and can therefore we used for selective iteration."
   ]
  },
  {
   "cell_type": "code",
   "execution_count": 69,
   "metadata": {},
   "outputs": [
    {
     "name": "stdout",
     "output_type": "stream",
     "text": [
      "1\n",
      "2\n",
      "3\n",
      "4\n",
      "5\n",
      "6\n",
      "7\n",
      "8\n",
      "9\n",
      "10\n",
      "==========\n",
      "1\n",
      "2\n",
      "3\n",
      "4\n",
      "5\n",
      "6\n",
      "7\n",
      "8\n",
      "9\n",
      "10\n",
      "==========\n"
     ]
    }
   ],
   "source": [
    "# Printing numbers from 1 to 10 using for loop\n",
    "for i in range(1, 11):\n",
    "    print(i)\n",
    "print(\"=\" * 10)\n",
    "\n",
    "# Printing numberd from 1 to 10 using while loop\n",
    "i = 1\n",
    "while i < 11:\n",
    "    print(i)\n",
    "    i += 1 # this is the same as i = i + 1\n",
    "print(\"=\" * 10)"
   ]
  },
  {
   "cell_type": "code",
   "execution_count": 75,
   "metadata": {},
   "outputs": [
    {
     "name": "stdout",
     "output_type": "stream",
     "text": [
      "for-loop output : 1  2  3  4  5  6  7  8  9  10  11  12  13  14  15  16  17  18  19  20  \n",
      "\n",
      "while-loop output : 1  3  5  7  9  11  13  15  17  19  \n",
      "\n"
     ]
    }
   ],
   "source": [
    "# Print odd numbers from 1 to 20 using for loop\n",
    "print(\"for-loop output : \", end='')\n",
    "for i in range(1, 21):\n",
    "    print(i, \" \", end='')\n",
    "    i += 2\n",
    "print(\"\\n\")\n",
    "\n",
    "\n",
    "# Print the odd numbers from 1 to 20 using while loop\n",
    "print(\"while-loop output : \", end='')\n",
    "i = 1\n",
    "while i < 21:\n",
    "    print(i, \" \", end='')\n",
    "    i += 2\n",
    "print(\"\\n\")"
   ]
  },
  {
   "cell_type": "code",
   "execution_count": 2,
   "metadata": {},
   "outputs": [
    {
     "name": "stdout",
     "output_type": "stream",
     "text": [
      "[[1, 2, 3], [4, 5, 6], [7, 8, 9]]\n",
      "[[1, 2, 3], [4, 5, 6], [7, 8, 9]]\n"
     ]
    }
   ],
   "source": [
    "# an introduction to lists\n",
    "list_of_lists = [[1,2,3], [4,5,6], [7,8,9]]\n",
    "pretty_lists = [ [1,2,3],\n",
    "               [4,5,6],\n",
    "               [7,8,9]]\n",
    "\n",
    "print(list_of_lists)\n",
    "print(pretty_lists)"
   ]
  },
  {
   "cell_type": "code",
   "execution_count": 3,
   "metadata": {},
   "outputs": [],
   "source": [
    "# check what this regular expression command does\n",
    "import re as regex\n",
    "my_regex = regex.compile(\"[0-9]+\", regex.I)\n",
    "match = 10"
   ]
  },
  {
   "cell_type": "code",
   "execution_count": 4,
   "metadata": {},
   "outputs": [
    {
     "name": "stdout",
     "output_type": "stream",
     "text": [
      "2.5\n",
      "2\n"
     ]
    }
   ],
   "source": [
    "# basic arithmetic\n",
    "from __future__ import division # this line of code has no effect in python3\n",
    "\n",
    "# perform floating point arithmetic\n",
    "res = 5/2\n",
    "print(res)\n",
    "\n",
    "# perform integer arithmetic\n",
    "res = 5 // 2\n",
    "print(res)"
   ]
  },
  {
   "cell_type": "markdown",
   "metadata": {},
   "source": [
    "## Functions and Strings  \n",
    "- Manipulating functions\n",
    "- Argument passing techniques\n",
    "- Strings intro\n",
    "- Exceptions"
   ]
  },
  {
   "cell_type": "code",
   "execution_count": 7,
   "metadata": {},
   "outputs": [
    {
     "name": "stdout",
     "output_type": "stream",
     "text": [
      "9\n",
      "7\n"
     ]
    }
   ],
   "source": [
    "# python functions demo\n",
    "# functions in python are first class; can be assigned to variables and passed as\n",
    "# arguments to other functions.\n",
    "\n",
    "# definition of square(x)\n",
    "# @param : x (data)\n",
    "def square(x):\n",
    "    return x * x\n",
    "\n",
    "# definition of apply(f)\n",
    "# @param : f (function)\n",
    "def foo(kjh):\n",
    "    return kjh(3)   # calling square(3) from this line\n",
    "\n",
    "# assign square(x) to a variable\n",
    "my_function = square\n",
    "# store the result of apply(f) in variable x\n",
    "x = foo(my_function)\n",
    "# print the result\n",
    "print(x)\n",
    "\n",
    "# achieve the above using lambda function\n",
    "y = foo(lambda x: x + 4) # here x gets the value as 3 from f(3) defined in apply(f)\n",
    "print(y)"
   ]
  },
  {
   "cell_type": "code",
   "execution_count": 8,
   "metadata": {},
   "outputs": [
    {
     "name": "stdout",
     "output_type": "stream",
     "text": [
      "default messsage is printed\n",
      "hello world\n"
     ]
    }
   ],
   "source": [
    "# default arguments\n",
    "def my_message(message = \"default messsage is printed\"):\n",
    "    print(message)\n",
    "\n",
    "# print the default argument\n",
    "my_message()\n",
    "# print a user argument\n",
    "my_message(\"hello world\")"
   ]
  },
  {
   "cell_type": "code",
   "execution_count": 9,
   "metadata": {},
   "outputs": [
    {
     "name": "stdout",
     "output_type": "stream",
     "text": [
      "5\n",
      "9\n",
      "-10\n",
      "0\n"
     ]
    }
   ],
   "source": [
    "# specifying arguments by name\n",
    "def subtract(a=0, b=0):\n",
    "    return a - b\n",
    "\n",
    "print(subtract(10, 5))\n",
    "print(subtract(a=9)) # specifying the first parameter explicitly\n",
    "print(subtract(b=10)) # specifying the second parameter explicitly\n",
    "print(subtract()) # not specifying any parameter (default values will be used)"
   ]
  },
  {
   "cell_type": "code",
   "execution_count": 10,
   "metadata": {},
   "outputs": [
    {
     "name": "stdout",
     "output_type": "stream",
     "text": [
      "this is a single quoted string\n",
      "this is a double quoted string\n",
      "\t\n",
      "1\n",
      "hello\n",
      "5\n",
      "2\n"
     ]
    }
   ],
   "source": [
    "# string examples\n",
    "single_quoted_string = 'this is a single quoted string'\n",
    "double_quoted_string = \"this is a double quoted string\"\n",
    "\n",
    "print(single_quoted_string)\n",
    "print(double_quoted_string)\n",
    "\n",
    "tab_string = '\\t'\n",
    "print(tab_string)\n",
    "print(len(tab_string))\n",
    "\n",
    "# raw strings in python\n",
    "raw_string1 = r'\\t'\n",
    "raw_string2 = r'hello'\n",
    "print(raw_string2)\n",
    "print(len(raw_string2))\n",
    "print(len(raw_string1))"
   ]
  },
  {
   "cell_type": "code",
   "execution_count": null,
   "metadata": {},
   "outputs": [],
   "source": [
    "# more strings\n"
   ]
  },
  {
   "cell_type": "code",
   "execution_count": 11,
   "metadata": {},
   "outputs": [
    {
     "name": "stdout",
     "output_type": "stream",
     "text": [
      "cannot divide by zero!\n"
     ]
    }
   ],
   "source": [
    "# exceptions in python\n",
    "try:\n",
    "    result_1 = 0 / 0\n",
    "    result_2 = 0 // 0\n",
    "except:\n",
    "    print('cannot divide by zero!')"
   ]
  },
  {
   "cell_type": "markdown",
   "metadata": {},
   "source": [
    "## Python Lists  \n",
    "- 1D lists\n",
    "- 2D lists\n",
    "- List operations : accessing elements, slicing, copying, concatenating lists, adding elements"
   ]
  },
  {
   "cell_type": "code",
   "execution_count": 12,
   "metadata": {},
   "outputs": [
    {
     "name": "stdout",
     "output_type": "stream",
     "text": [
      "[12, 34, 44, 92, 31, 8, 13, 5, 109]\n",
      "['hello', 12.232, True, 'world', 100]\n",
      "[[12, 34, 44, 92, 31, 8, 13, 5, 109], ['hello', 12.232, True, 'world', 100]]\n",
      "[[12, 34, 44, 92, 31, 8, 13, 5, 109], [12.2, 23.11, 90.001, 123.9]]\n",
      "9\n",
      "2\n",
      "348\n"
     ]
    }
   ],
   "source": [
    "# python lists\n",
    "integer_list = [12, 34, 44, 92, 31, 8, 13, 5, 109] # list containing integers\n",
    "float_list = [12.2, 23.11, 90.001, 123.9] # list of floating point numbers\n",
    "random_list = ['hello', 12.232, True, 'world', 100] # list containing random values\n",
    "list_list = [integer_list, random_list] # list of lists\n",
    "lists_list = [integer_list, float_list] # another list of lists\n",
    "\n",
    "print(integer_list)\n",
    "print(random_list)\n",
    "print(list_list)\n",
    "print(lists_list)\n",
    "\n",
    "print(len(integer_list)) # length of list\n",
    "print(len(lists_list)) # length of list of lists\n",
    "\n",
    "print(sum(integer_list)) # sum of integer list\n",
    "# print(sum(lists_list)) # sum of list of list; this will throw error\n",
    "# print(sum(lists_list)) # calculate the sum of list of lists of real numbers; this also throws an error\n",
    "# thus lists of lists cannot be summed"
   ]
  },
  {
   "cell_type": "code",
   "execution_count": null,
   "metadata": {},
   "outputs": [],
   "source": [
    "# accessing the elements of a list\n",
    "x = range(10) # x is a list from 0-9\n",
    "print(x[9])\n",
    "print()\n",
    "# accessing the elements of the above integer list\n",
    "print(integer_list[0]) # accessing the first element\n",
    "print(integer_list[5]) # printing 6th element\n",
    "print(integer_list[len(integer_list) - 1]) # accessing the last element\n",
    "print(integer_list[-1]) # accessing the last element\n",
    "print(integer_list[-2]) # accessing the 2nd last element\n",
    "print(integer_list[-len(integer_list)]) # accessing the first element"
   ]
  },
  {
   "cell_type": "code",
   "execution_count": null,
   "metadata": {},
   "outputs": [],
   "source": [
    "# modifying the list\n",
    "integer_list[-1] = -1\n",
    "integer_list[0] = 0\n",
    "print(integer_list)"
   ]
  },
  {
   "cell_type": "code",
   "execution_count": 13,
   "metadata": {},
   "outputs": [
    {
     "name": "stdout",
     "output_type": "stream",
     "text": [
      "list is :  [[12, 34, 44, 92, 31, 8, 13, 5, 109], ['hello', 12.232, True, 'world', 100]]\n",
      "first list is (a):  [12, 34, 44, 92, 31, 8, 13, 5, 109]\n",
      "second list is (b):  ['hello', 12.232, True, 'world', 100]\n",
      "\n",
      "first list, 5th element :  31\n",
      "second list, last element :  100\n",
      "second list, 2nd last element :  world\n",
      "first list, last element :  109\n"
     ]
    }
   ],
   "source": [
    "# accessing 2d lists\n",
    "print('list is : ', list_list)\n",
    "print('first list is (a): ', list_list[0])\n",
    "print('second list is (b): ', list_list[1])\n",
    "print()\n",
    "print('first list, 5th element : ', list_list[0][4])\n",
    "print('second list, last element : ', list_list[-1][-1])\n",
    "print('second list, 2nd last element : ', list_list[1][-2])\n",
    "print('first list, last element : ', list_list[-len(list_list)][-1])"
   ]
  },
  {
   "cell_type": "code",
   "execution_count": null,
   "metadata": {},
   "outputs": [],
   "source": [
    "# list slicing\n",
    "x = integer_list[:] # makes a copy of integer_list to list x\n",
    "y = integer_list # assigns the address of integer_list to y\n",
    "print(x)\n",
    "print(y)\n",
    "print() \n",
    "\n",
    "# these changes to list x will only reflect in x; integer_list will not get affected\n",
    "x[0] = 0\n",
    "x[-1] = -1\n",
    "\n",
    "# these changes to list y will also reflect in integer_list (permanent changes)\n",
    "y[0] = 0\n",
    "y[-1] = -1\n",
    "\n",
    "print(x)\n",
    "print(y)\n",
    "print(integer_list)"
   ]
  },
  {
   "cell_type": "code",
   "execution_count": null,
   "metadata": {},
   "outputs": [],
   "source": [
    "# list operations\n",
    "x = random_list[:] # make a copy\n",
    "y = float_list[:] # make a copy\n",
    "z = [float_list, random_list, []]\n",
    "w = [float_list[:], random_list[:], []]\n",
    "\n",
    "print('x : ', x)\n",
    "print('y : ', y)\n",
    "print('z : ', z)\n",
    "print('w : ', w)\n",
    "\n",
    "z[0][-1] = 0.999\n",
    "w[0][-1] = 0.001\n",
    "\n",
    "print('z : ', z)\n",
    "print('w : ', w)\n",
    "print('float_list : ', float_list)"
   ]
  },
  {
   "cell_type": "code",
   "execution_count": null,
   "metadata": {},
   "outputs": [],
   "source": [
    "# slicing lists\n",
    "x = integer_list[:]\n",
    "\n",
    "print(x)\n",
    "print()\n",
    "\n",
    "first_three = x[:3]\n",
    "last_four = x[-4:]\n",
    "leave_first = x[1:]\n",
    "leave_last = x[:-1]\n",
    "second_to_secondL = x[1:-1]\n",
    "middle_section = x[3:7]\n",
    "\n",
    "print(first_three)\n",
    "print(last_four)\n",
    "print(leave_first)\n",
    "print(leave_last)\n",
    "print(second_to_secondL)\n",
    "print(middle_section)"
   ]
  },
  {
   "cell_type": "code",
   "execution_count": null,
   "metadata": {},
   "outputs": [],
   "source": [
    "# slicing on 2d lists\n",
    "print(' z : ', z)\n",
    "print('last but one : ', z[:-1])\n",
    "print('except first : ', z[1:])\n",
    "print('middle : ', z[1:-1])\n",
    "print('first list, except last : ', z[0][:-1])\n",
    "print('second list except first and last : ', z[1][1:-1])\n",
    "# this does not give the desired output; it first ignores the last list and then again ignores the last\n",
    "# list and thus prints the first one\n",
    "print('except last list and except every last element of list : ', z[:-1][:-1])\n",
    "# doing the same as above but [1:] as the second slice will remove the first and print the middle list\n",
    "print(z[:-1][1:])\n",
    "# doing either [1:] or [:-1] as third slice will result in empty list\n",
    "print(z[:-1][1:][1:])\n",
    "print(z[:-1][1:][:-1])\n",
    "# slicing operations are not carried out on original lists\n",
    "print('z : ', z)"
   ]
  },
  {
   "cell_type": "code",
   "execution_count": null,
   "metadata": {},
   "outputs": [],
   "source": [
    "# checking in a list using 'in'\n",
    "temp1 = z[0][:] # making a copy of z[0]\n",
    "temp2 = z[1][:] # making a copy of z[1]\n",
    "\n",
    "print(temp1)\n",
    "print(temp2)\n",
    "\n",
    "flag1 = 90.001 in temp1 # check if 90.001 exists in temp1\n",
    "flag2 = True in temp2 # check if the value True is in temp2\n",
    "flag3 = (22/7) in temp1\n",
    "flag4 = 'hello world' in temp2\n",
    "\n",
    "print(flag1)\n",
    "print(flag2)\n",
    "print(flag3)\n",
    "print(flag4)"
   ]
  },
  {
   "cell_type": "code",
   "execution_count": null,
   "metadata": {},
   "outputs": [],
   "source": [
    "# list concatenation\n",
    "x = integer_list[:]\n",
    "y = float_list[:]\n",
    "print(x)\n",
    "print(y)\n",
    "print()\n",
    "\n",
    "# concatenating the list y to the list x; changes are permanent\n",
    "x.extend(y)\n",
    "print(x)\n",
    "print()\n",
    "\n",
    "z = integer_list[:]\n",
    "y = float_list[:]\n",
    "\n",
    "# use + operator to concatenate list y to list x and store the result in another variable;\n",
    "# leaves x unchanged\n",
    "w = y + z\n",
    "print('y : ', y)\n",
    "print('z : ', z)\n",
    "print('w : ', w)"
   ]
  },
  {
   "cell_type": "code",
   "execution_count": null,
   "metadata": {},
   "outputs": [],
   "source": [
    "# more list operations\n",
    "x = integer_list[:]\n",
    "print('x : ', x)\n",
    "print()\n",
    "\n",
    "# appending a value to a list\n",
    "x.append(-90)\n",
    "x.append(-100)\n",
    "x.append(0)\n",
    "\n",
    "print('x : ', x)\n",
    "print()\n",
    "\n",
    "# unpacking list values into a list\n",
    "args = integer_list[:]\n",
    "print(args[0])\n",
    "print(args[-1])\n",
    "\n",
    "# unpacking list values into a fixed number of variables\n",
    "argv1, argv2, argv3 = integer_list[2:5]\n",
    "print(argv1)\n",
    "print(argv2)\n",
    "print(argv3)\n",
    "\n",
    "# ignoreing unpacked list values\n",
    "_, argv2 = integer_list[:2]\n",
    "print(argv2)\n",
    "# ignore multiple unpacked list values\n",
    "_, _, _, argv4 = integer_list[-4:]\n",
    "print(argv4)"
   ]
  },
  {
   "cell_type": "markdown",
   "metadata": {},
   "source": [
    "## Python Tuples\n",
    "- Basic tuple operations\n",
    "- Using tuples to return from functions\n",
    "- Code to swap 2 numbers"
   ]
  },
  {
   "cell_type": "code",
   "execution_count": 14,
   "metadata": {},
   "outputs": [
    {
     "name": "stdout",
     "output_type": "stream",
     "text": [
      "1\n",
      "8\n",
      "7\n",
      "length of tuple :  4\n",
      "1\n",
      "(9, 8, 7)\n",
      "(9, 8, 7)\n",
      "(9, 8)\n",
      "(9, 8)\n",
      "(1, 9, 8, 7)\n",
      "<class 'tuple'>\n",
      "cannot modify a tuple\n"
     ]
    }
   ],
   "source": [
    "# tuples\n",
    "my_tuple = (1, 9, 8, 7) # creating a tuple\n",
    "# accessing tuples\n",
    "print(my_tuple[0]) \n",
    "print(my_tuple[2])\n",
    "print(my_tuple[-1]) # last element of tuple\n",
    "print('length of tuple : ', len(my_tuple)) # length of tuple\n",
    "print(my_tuple[-len(my_tuple)]) # first element of tuple\n",
    "\n",
    "# slicing operations on tuple\n",
    "print(my_tuple[1:]) # leave the first\n",
    "print(my_tuple[-3:]) # 3rd last to end\n",
    "print(my_tuple[-3:-1]) # 3rd last to end except last\n",
    "print(my_tuple[1:-1]) # second to last but one\n",
    "\n",
    "# tuples can be assigned values\n",
    "new_tuple = my_tuple[:]\n",
    "print(new_tuple)\n",
    "\n",
    "# a slice of a tuple is a tuple\n",
    "print(type(my_tuple[1:-1]))\n",
    "\n",
    "# tuple elements cannot be changed\n",
    "try:\n",
    "    new_tuple[0] = 0;\n",
    "except TypeError:\n",
    "    print('cannot modify a tuple')\n",
    "\n",
    "# this will throw error\n",
    "# new_tuple[-1] = -1"
   ]
  },
  {
   "cell_type": "code",
   "execution_count": 15,
   "metadata": {},
   "outputs": [
    {
     "name": "stdout",
     "output_type": "stream",
     "text": [
      "13\n",
      "30\n",
      "25\n",
      "84\n"
     ]
    }
   ],
   "source": [
    "# tuples can be used to return multiple values from functions\n",
    "def sum_and_product(num1, num2):\n",
    "    return (num1 + num2), (num1 * num2)\n",
    "\n",
    "res = sum_and_product(10, 3)\n",
    "print(res[0])\n",
    "print(res[1])\n",
    "\n",
    "x, y = sum_and_product(21, 4)\n",
    "print(x)\n",
    "print(y)"
   ]
  },
  {
   "cell_type": "code",
   "execution_count": 16,
   "metadata": {},
   "outputs": [
    {
     "name": "stdout",
     "output_type": "stream",
     "text": [
      "a= 20\n",
      "b= 10\n"
     ]
    }
   ],
   "source": [
    "# python code to swap 2 numbers\n",
    "def swap(x, y):\n",
    "    x, y = y, x\n",
    "    return x, y\n",
    "\n",
    "a = 10\n",
    "b = 20\n",
    "a, b = swap(a, b)\n",
    "print('a=', a)\n",
    "print('b=', b)"
   ]
  },
  {
   "cell_type": "markdown",
   "metadata": {},
   "source": [
    "## Python Dictionaries\n",
    "- Basic dictionary operations\n",
    "- Indexing keys and values\n",
    "- .get() method in dictionary\n",
    "- attributes in-built in every dictionary (eg. dict.keys(), dict.values(), dict.items())\n",
    "- defaultdict module"
   ]
  },
  {
   "cell_type": "code",
   "execution_count": 17,
   "metadata": {},
   "outputs": [
    {
     "name": "stdout",
     "output_type": "stream",
     "text": [
      "5\n",
      "5\n",
      "\n",
      "{'anish': 25, 'tanu': 22, 'pan': 23, 'nihal': 22, 'surya': 21}\n",
      "anish :  80\n",
      "kumar :  45\n",
      "surya :  21\n",
      "no grades for surya!\n",
      "\n",
      "21\n",
      "no entry for surya!!!\n",
      "\n"
     ]
    }
   ],
   "source": [
    "# dictionaries\n",
    "my_dict = {} # create an empty dictionary\n",
    "my_dict = {'anish' : 25, 'tanu' : 22, 'pan' : 23, 'nihal' : 22, 'surya' : 21}\n",
    "grades = {'anish' : 80, 'bansal' : 98, 'rohit' : 34, 'kumar' : 45, 'chetak' : 19}\n",
    "\n",
    "# length of dictionary\n",
    "print(len(my_dict))\n",
    "print(len(grades))\n",
    "print()\n",
    "# contents of dictionary\n",
    "print(my_dict)\n",
    "\n",
    "# looking up values\n",
    "print('anish : ', grades['anish'])\n",
    "print('kumar : ', grades['kumar'])\n",
    "# print(grades['surya']) # this line throws an error\n",
    "print('surya : ', my_dict['surya'])\n",
    "# to prevent error due to wrong key or non existent key\n",
    "try:\n",
    "    print(grades['surya'])  # order matters here; because of this error code will not get executed below\n",
    "    print(my_dict['surya'])\n",
    "except KeyError:\n",
    "    print('no grades for surya!')\n",
    "print()\n",
    "\n",
    "try:\n",
    "    print(my_dict['surya']) # order matters; this line gets executed because the error occurs on next\n",
    "    print(grades['surya'])  # line\n",
    "except KeyError:\n",
    "    print('no entry for surya!!!')\n",
    "print() "
   ]
  },
  {
   "cell_type": "code",
   "execution_count": 18,
   "metadata": {},
   "outputs": [
    {
     "name": "stdout",
     "output_type": "stream",
     "text": [
      "False\n",
      "True\n",
      "anish :  98\n",
      "surya :  89\n",
      "{'anish': 25, 'tanu': 22, 'pan': 23, 'nihal': 22, 'surya': 21, 'gautami': 99}\n",
      "{'anish': 98, 'bansal': 98, 'rohit': 34, 'kumar': 45, 'chetak': 19, 'surya': 89}\n",
      "98\n",
      "0\n",
      "None\n"
     ]
    }
   ],
   "source": [
    "# searching in dictionaries\n",
    "flag_s1 = 'surya' in grades\n",
    "flag_s2 = 'surya' in my_dict\n",
    "\n",
    "print(flag_s1)\n",
    "print(flag_s2)\n",
    "\n",
    "# assigning values\n",
    "if 'anish' in grades:\n",
    "    grades['anish'] = 98\n",
    "else:\n",
    "    print('not found!')\n",
    "\n",
    "if 'surya' not in grades:\n",
    "    grades['surya'] = 89\n",
    "else:\n",
    "    print('data exists!')\n",
    "\n",
    "print('anish : ', grades['anish'])\n",
    "print('surya : ', grades['surya'])\n",
    "\n",
    "# adding a new (key,value) pair to the dictionary\n",
    "my_dict['gautami'] = 99\n",
    "\n",
    "print(my_dict)\n",
    "print(grades)\n",
    "\n",
    "# getting data from dictionaries\n",
    "data = grades.get('anish', 0) # specifying the default output as 0 if key not found\n",
    "print(data)\n",
    "data = grades.get('sumanth', 0)\n",
    "print(data)\n",
    "data  = grades.get('vivek')\n",
    "print(data) # output is none when no default is specified."
   ]
  },
  {
   "cell_type": "code",
   "execution_count": 21,
   "metadata": {},
   "outputs": [
    {
     "ename": "TypeError",
     "evalue": "'dict_keys' object is not subscriptable",
     "output_type": "error",
     "traceback": [
      "\u001b[0;31m---------------------------------------------------------------------------\u001b[0m",
      "\u001b[0;31mTypeError\u001b[0m                                 Traceback (most recent call last)",
      "\u001b[0;32m<ipython-input-21-7abf75c4c7bd>\u001b[0m in \u001b[0;36m<module>\u001b[0;34m()\u001b[0m\n\u001b[1;32m     11\u001b[0m \u001b[0mtweet_items\u001b[0m \u001b[0;34m=\u001b[0m \u001b[0mtweet\u001b[0m\u001b[0;34m.\u001b[0m\u001b[0mitems\u001b[0m\u001b[0;34m(\u001b[0m\u001b[0;34m)\u001b[0m \u001b[0;31m# list of (key,value) pairs\u001b[0m\u001b[0;34m\u001b[0m\u001b[0m\n\u001b[1;32m     12\u001b[0m \u001b[0;34m\u001b[0m\u001b[0m\n\u001b[0;32m---> 13\u001b[0;31m \u001b[0mprint\u001b[0m\u001b[0;34m(\u001b[0m\u001b[0mtweet_keys\u001b[0m\u001b[0;34m[\u001b[0m\u001b[0;34m:\u001b[0m\u001b[0;34m]\u001b[0m\u001b[0;34m)\u001b[0m\u001b[0;34m\u001b[0m\u001b[0m\n\u001b[0m\u001b[1;32m     14\u001b[0m \u001b[0mprint\u001b[0m\u001b[0;34m(\u001b[0m\u001b[0mtweet_values\u001b[0m\u001b[0;34m[\u001b[0m\u001b[0;34m:\u001b[0m\u001b[0;34m]\u001b[0m\u001b[0;34m)\u001b[0m\u001b[0;34m\u001b[0m\u001b[0m\n\u001b[1;32m     15\u001b[0m \u001b[0mprint\u001b[0m\u001b[0;34m(\u001b[0m\u001b[0mtweet_items\u001b[0m\u001b[0;34m[\u001b[0m\u001b[0;36m0\u001b[0m\u001b[0;34m]\u001b[0m\u001b[0;34m)\u001b[0m\u001b[0;34m\u001b[0m\u001b[0m\n",
      "\u001b[0;31mTypeError\u001b[0m: 'dict_keys' object is not subscriptable"
     ]
    }
   ],
   "source": [
    "# an example twitter data dictionary\n",
    "tweet = {\n",
    "    'user' : 'anishpal',\n",
    "    'text' : 'learning machine learning from many days',\n",
    "    'retweet_count' : 100,\n",
    "    'hashtags' : ['#data', '#ai', '#ml', '#machine', '#andrewng', '#datascience', '#chatbots']\n",
    "}\n",
    "\n",
    "tweet_keys = tweet.keys() # list of keys\n",
    "tweet_values = tweet.values() # list of values\n",
    "tweet_items = tweet.items() # list of (key,value) pairs\n",
    "\n",
    "print(tweet_keys)\n",
    "print(tweet_values[:]) # throws an error, cannot subscript dict_keys\n",
    "print(tweet_items[0]) # this also throws the same error as above"
   ]
  },
  {
   "cell_type": "markdown",
   "metadata": {},
   "source": [
    "## Counters and Sets"
   ]
  },
  {
   "cell_type": "code",
   "execution_count": 22,
   "metadata": {},
   "outputs": [
    {
     "name": "stdout",
     "output_type": "stream",
     "text": [
      "[0, 1, 2, 1, 0, 2, 2, 0, 56, 34, 24, 83, 38]\n",
      "Counter({0: 3, 2: 3, 1: 2, 56: 1, 34: 1, 24: 1, 83: 1, 38: 1})\n",
      "<class 'collections.Counter'>\n",
      "[(0, 3)]\n",
      "[(0, 3), (2, 3), (1, 2)]\n"
     ]
    }
   ],
   "source": [
    "from collections import Counter\n",
    "\n",
    "random_values = [0, 1, 2, 1, 0, 2, 2, 0, 56, 34, 24, 83, 38]\n",
    "print(random_values)\n",
    "\n",
    "c = Counter(random_values) # assigns frequency to each item in the list\n",
    "print(c)\n",
    "print(type(c))\n",
    "\n",
    "# print the most common element\n",
    "print(c.most_common(1))\n",
    "# print the 3 most common elements\n",
    "print(c.most_common(3))"
   ]
  },
  {
   "cell_type": "code",
   "execution_count": null,
   "metadata": {},
   "outputs": [],
   "source": [
    "# set - a collection of distinct elements\n",
    "s = set() # create an empty set\n",
    "\n",
    "# simple operations \n",
    "s.add(1)\n",
    "s.add(2)\n",
    "s.add(3)\n",
    "s.add(3)\n",
    "s.add(3)\n",
    "s.add(3)\n",
    "s.add(1)\n",
    "print(len(s)) # output is 3 because set can hold distinct elements\n",
    "\n",
    "# convert a list containing multiple values into a list containing distinct values\n",
    "distinct_set = set(random_values)\n",
    "distinct_list = list(distinct_set)\n",
    "print('original list : ', random_values)\n",
    "print('new list : ', distinct_list)\n",
    "\n",
    "# to perform the above in 1 line\n",
    "distinct_list = list(set(random_values))\n",
    "print('new list : ', distinct_list)"
   ]
  },
  {
   "cell_type": "markdown",
   "metadata": {},
   "source": [
    "## Conditionals\n",
    "- if-else\n",
    "- ternary conditions\n",
    "- for and while loops\n",
    "- boolean values\n",
    "- any and all functions"
   ]
  },
  {
   "cell_type": "code",
   "execution_count": null,
   "metadata": {},
   "outputs": [],
   "source": [
    "# if-else block\n",
    "a = 100\n",
    "b = 100\n",
    "\n",
    "if a > b:\n",
    "    print(a,' is greater than ', b)\n",
    "elif b > a:\n",
    "    print(b, ' is greater than ', a)\n",
    "else:\n",
    "    print(a, ' and ', b, ' are equal')\n",
    "\n",
    "# ternary loop\n",
    "x = 200\n",
    "parity = 'even' if x % 2 == 0 else 'odd'\n",
    "print(parity)"
   ]
  },
  {
   "cell_type": "code",
   "execution_count": null,
   "metadata": {},
   "outputs": [],
   "source": [
    "# loops\n",
    "# while loop\n",
    "print('printing numbers less than 10 using while loop')\n",
    "x = 0\n",
    "while x < 10:\n",
    "    print(x, ' is less than 10')\n",
    "    x += 1\n",
    "print()\n",
    "\n",
    "# print odd numbers only till 10\n",
    "print('printing odd numbers till 10 using while loop')\n",
    "x = 1\n",
    "while x <= 10:\n",
    "    print(x)\n",
    "    x += 2\n",
    "print()\n",
    "\n",
    "# for loop\n",
    "print('printing numbers less than 10 using for loop')\n",
    "for i in range(10):\n",
    "    print(i)\n",
    "print()\n",
    "\n",
    "# print even numbers till 10 (this approach does not work)\n",
    "'''\n",
    "print('printing even numbers till 10 using for loop')\n",
    "for i in range(10):\n",
    "    print(i)\n",
    "    i += 2\n",
    "print()\n",
    "'''"
   ]
  },
  {
   "cell_type": "code",
   "execution_count": null,
   "metadata": {},
   "outputs": [],
   "source": [
    "my_list = []\n",
    "for i in range(1,16):\n",
    "    x = 3 * i + 1\n",
    "    my_list.append(x)\n",
    "print(my_list)\n",
    "\n",
    "# print the every 4th element of list\n",
    "print('printing every 4th element of list')\n",
    "i = 3\n",
    "while i < len(my_list):\n",
    "    print(my_list[i])\n",
    "    i += 4\n",
    "print()\n",
    "\n",
    "# the above is not possible using for loop\n",
    "print('printing every 4th element using 4th loop')\n",
    "for i in range(len(my_list)):\n",
    "    if i == 0:\n",
    "        i = 3\n",
    "    print(my_list[i])\n",
    "    i += 4\n",
    "print()"
   ]
  },
  {
   "cell_type": "code",
   "execution_count": null,
   "metadata": {},
   "outputs": [],
   "source": [
    "empty_list = []\n",
    "non_empty_list = [1]\n",
    "x = empty_list\n",
    "\n",
    "# prints the first character if list is not empty\n",
    "if x:\n",
    "    print(x[0])\n",
    "else:\n",
    "    print('empty!')\n",
    "\n",
    "# to the above in a better way\n",
    "char = x and x[0]\n",
    "print(x)"
   ]
  },
  {
   "cell_type": "code",
   "execution_count": null,
   "metadata": {},
   "outputs": [],
   "source": [
    "# any and all function\n",
    "print(all([True, 1, {3}, [1, 2, -1], -9])) # returns true as all elements are true\n",
    "print(all([True, [False, False]])) # returns true as all elements are true\n",
    "print(all([True, {3}, []])) # prints false as one is false\n",
    "print(all([])) # prints true as all elements are true i.e. no falsy elements\n",
    "print(any([[], False, {}])) # prints false as all elemetns are falsy\n",
    "print(any([[False, False], [False], {False}])) # prints true as all are truthy\n",
    "print(any([[], {}, False, {1}])) # prints true as atleast one truthy elements\n",
    "print(any([])) # prints false as no truthy element"
   ]
  }
 ],
 "metadata": {
  "kernelspec": {
   "display_name": "Python 3",
   "language": "python",
   "name": "python3"
  },
  "language_info": {
   "codemirror_mode": {
    "name": "ipython",
    "version": 3
   },
   "file_extension": ".py",
   "mimetype": "text/x-python",
   "name": "python",
   "nbconvert_exporter": "python",
   "pygments_lexer": "ipython3",
   "version": "3.6.7"
  }
 },
 "nbformat": 4,
 "nbformat_minor": 2
}
