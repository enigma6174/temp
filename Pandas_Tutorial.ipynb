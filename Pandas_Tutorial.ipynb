{
 "cells": [
  {
   "cell_type": "code",
   "execution_count": null,
   "metadata": {},
   "outputs": [],
   "source": [
    "import pandas as pd"
   ]
  },
  {
   "cell_type": "markdown",
   "metadata": {},
   "source": [
    "## Basics"
   ]
  },
  {
   "cell_type": "code",
   "execution_count": null,
   "metadata": {},
   "outputs": [],
   "source": [
    "# create a simple data frame; dict keys are the column names and the dict values are the values of the respective column names\n",
    "# the rows are numbered sequentially (0,1, 2, ....)\n",
    "pd.DataFrame({'Yes': [50, 21], 'No': [131, 2]})"
   ]
  },
  {
   "cell_type": "code",
   "execution_count": null,
   "metadata": {},
   "outputs": [],
   "source": [
    "# length of value arrays corresponding to keys must be of same length\n",
    "# pd.DataFrame({'Boys': ['Anish', 'Surya', 'Nihal', 'Anshumaan'], 'Girls': ['Tanu', 'Gautami', 'Ankita']}) # this will throw error\n",
    "pd.DataFrame({'Boys': ['Anish', 'Nihal', 'Surya'], 'Girls': ['Tanu', 'Ankita', 'Gautami']})"
   ]
  },
  {
   "cell_type": "code",
   "execution_count": null,
   "metadata": {},
   "outputs": [],
   "source": [
    "# a data frame with row numbers labeled\n",
    "pd.DataFrame({'Apple': ['iPhone', 'iPad', 'iPencil'], 'Samsung': ['Galaxy Note', 'Galaxy Tab', 'Smart Pencil']}, \n",
    "            index = ['smartphone', 'tablet', 'stylus'])"
   ]
  },
  {
   "cell_type": "code",
   "execution_count": null,
   "metadata": {},
   "outputs": [],
   "source": [
    "# working with Pandas series\n",
    "pd.Series([1, 2, 3, 4, 5])"
   ]
  },
  {
   "cell_type": "code",
   "execution_count": null,
   "metadata": {},
   "outputs": [],
   "source": [
    "pd.Series(['Anish', 'Nihal', 'Surya', 'Tanu', 'Bob', 'Marvel'])"
   ]
  },
  {
   "cell_type": "code",
   "execution_count": null,
   "metadata": {},
   "outputs": [],
   "source": [
    "# naming the rows of the series\n",
    "pd.Series([30.5, 12.5, 111.2, 78.1],\n",
    "         index = ['pop. A', 'pop. B', 'pop. C', 'pop. D'], name = 'Population of cities')"
   ]
  },
  {
   "cell_type": "code",
   "execution_count": null,
   "metadata": {},
   "outputs": [],
   "source": [
    "# read a CSV file\n",
    "wine_reviews = pd.read_csv(\"~/datasets/wine/winemag-data-130k-v2.csv\")"
   ]
  },
  {
   "cell_type": "code",
   "execution_count": null,
   "metadata": {},
   "outputs": [],
   "source": [
    "# check the dimensions of the CSV file\n",
    "wine_reviews.shape"
   ]
  },
  {
   "cell_type": "code",
   "execution_count": null,
   "metadata": {},
   "outputs": [],
   "source": [
    "# examine the first 5 rows of the dataset\n",
    "wine_reviews.head()"
   ]
  },
  {
   "cell_type": "code",
   "execution_count": null,
   "metadata": {},
   "outputs": [],
   "source": [
    "# use the index column provided in the CSV file\n",
    "wine_reviews = pd.read_csv(\"~/datasets/wine/winemag-data-130k-v2.csv\", index_col = 0)\n",
    "wine_reviews.head()"
   ]
  },
  {
   "cell_type": "code",
   "execution_count": null,
   "metadata": {},
   "outputs": [],
   "source": [
    "# working with excel files\n",
    "wic = pd.read_excel(\"WICAgencies2013ytd.xls\", sheet_name = 'Total Women')\n",
    "print(wic.shape)\n",
    "wic.head()"
   ]
  },
  {
   "cell_type": "code",
   "execution_count": null,
   "metadata": {},
   "outputs": [],
   "source": [
    "# writing to files\n",
    "wine_reviews.head().to_csv('wine_output1.csv')\n",
    "wic.head().to_excel('women_output1.xlsx', sheet_name = 'Total Women')"
   ]
  },
  {
   "cell_type": "markdown",
   "metadata": {},
   "source": [
    "## Indexing, Selecting, Assigning Reference"
   ]
  },
  {
   "cell_type": "code",
   "execution_count": null,
   "metadata": {},
   "outputs": [],
   "source": [
    "import pandas as pd\n",
    "\n",
    "reviews = pd.read_csv('winemag-data-130k-v2.csv', index_col=0)\n",
    "pd.set_option('display.max_rows', 10)"
   ]
  },
  {
   "cell_type": "code",
   "execution_count": null,
   "metadata": {},
   "outputs": [],
   "source": [
    "reviews"
   ]
  },
  {
   "cell_type": "code",
   "execution_count": null,
   "metadata": {},
   "outputs": [],
   "source": [
    "# accessing a data frame property\n",
    "reviews.country"
   ]
  },
  {
   "cell_type": "code",
   "execution_count": null,
   "metadata": {},
   "outputs": [],
   "source": [
    "# another way to access the same property\n",
    "reviews['country'] # remember, country is the key; all values in the column below are the values associated with the key"
   ]
  },
  {
   "cell_type": "code",
   "execution_count": null,
   "metadata": {},
   "outputs": [],
   "source": [
    "# selecting individual elements from a Series\n",
    "print(reviews['country'][0]) # print the name of the first country\n",
    "print(reviews['country'][15]) # print the name of the 16th country\n",
    "print(reviews['country'][len(reviews['country']) - 1]) # print the name of the last country\n",
    "# NOTE : reviews['country'][-1] does not access the last element"
   ]
  },
  {
   "cell_type": "code",
   "execution_count": null,
   "metadata": {},
   "outputs": [],
   "source": [
    "# index based selection using loc and iloc (pandas indexing operators)\n",
    "# index based selection : selecting data based on it's numerical position in the data\n",
    "# both loc and iloc are row first and column second approach\n",
    "\n",
    "# getting the first row of the data frame\n",
    "print(reviews.iloc[0])\n",
    "# getting the 10th row of the data frame\n",
    "print(reviews.iloc[9])\n",
    "# getting the last row of the data frame\n",
    "print(reviews.iloc[-1])"
   ]
  },
  {
   "cell_type": "code",
   "execution_count": null,
   "metadata": {},
   "outputs": [],
   "source": [
    "# cloumn selection using iloc\n",
    "print(reviews.iloc[:, 0]) # selecting the first column\n",
    "print(reviews.iloc[:, 3]) # selecting the 4th column\n",
    "print(reviews.iloc[:, -1]) # selecting the last column"
   ]
  },
  {
   "cell_type": "code",
   "execution_count": null,
   "metadata": {},
   "outputs": [],
   "source": [
    "# slicing and dicing operations using iloc\n",
    "\n",
    "print(reviews.iloc[:5, 0]) # select the country names from the first 5 rows\n",
    "print(reviews.iloc[:5, 0:4]) # select the columns 1 through 5 for the first 5 rows\n",
    "print(reviews.iloc[7:11, 0]) # select the country names from rows 7 to 11\n",
    "print(reviews.iloc[[0, 3, 5, 9], [0, 5, 6]]) # print the 1st, 6th and 7th columns of row numbers 1, 4, 6, 10 (arguments inside iloc were passed as list)\n",
    "print(reviews.iloc[-5:]) # print the details of the last 5 rows"
   ]
  },
  {
   "cell_type": "code",
   "execution_count": null,
   "metadata": {},
   "outputs": [],
   "source": [
    "# Using pandas.loc() instead of pandas.iloc()\n",
    "# loc uses the information of indices to access the data\n",
    "print(reviews.loc[:, ['taster_name', 'taster_twitter_handle', 'points']]) # print the rows corresponding to the column names specified\n",
    "# reviews.iloc[:, ['taster_name', 'taster_twitter_handle', 'points']]  # this will throw an error; we cannot use iloc for this operation;\n",
    "# to get the same result as loc operation, we need to specify the column numbers explicitly\n",
    "print(reviews.loc[[0, 1, 2, 10, 110, 1298, 5601], 'country']) # select the country names of the rows specified"
   ]
  },
  {
   "cell_type": "markdown",
   "metadata": {},
   "source": [
    "* iloc and loc both are used for indexing operations\n",
    "* iloc treats the data frame as a matrix, i.e. a list of lists, we cannot index using the information, only numbers can be used\n",
    "* loc is more versatile in the sense that it allows us to index using the information present in the data frame\n",
    "* iloc uses stdlib indexing, i.e. 0:10 fetches data from 0 to 9 (inculdes 0 but excludes 10)\n",
    "* loc uses inclusive indexing, i.e. 0:10 fetches 0 to 10 (both inclusive)"
   ]
  },
  {
   "cell_type": "code",
   "execution_count": null,
   "metadata": {},
   "outputs": [],
   "source": [
    "# Manipulating the index\n",
    "reviews.set_index('title') # index the rows by title"
   ]
  },
  {
   "cell_type": "code",
   "execution_count": null,
   "metadata": {},
   "outputs": [],
   "source": [
    "reviews.set_index('country') # index by country names"
   ]
  },
  {
   "cell_type": "code",
   "execution_count": null,
   "metadata": {},
   "outputs": [],
   "source": [
    "# selecting the rows where the wines are from Italy\n",
    "reviews.loc[reviews['country'] == 'Italy']"
   ]
  },
  {
   "cell_type": "code",
   "execution_count": null,
   "metadata": {},
   "outputs": [],
   "source": [
    "# selecting the rows where the wines are from Italy and are highly rated\n",
    "reviews.loc[(reviews['country'] == 'Italy') & (reviews['points'] >= 90)]"
   ]
  },
  {
   "cell_type": "code",
   "execution_count": null,
   "metadata": {},
   "outputs": [],
   "source": [
    "# selecting the rows where the wines are from Italy or highly rated\n",
    "reviews.loc[(reviews['country'] == 'Italy') | (reviews['points'] >= 90)]"
   ]
  },
  {
   "cell_type": "code",
   "execution_count": null,
   "metadata": {},
   "outputs": [],
   "source": [
    "# selecting the wines made in Italy or France using 'isin' operator (native to pandas)\n",
    "reviews.loc[reviews['country'].isin(['Italy', 'France'])]"
   ]
  },
  {
   "cell_type": "code",
   "execution_count": null,
   "metadata": {},
   "outputs": [],
   "source": [
    "# filter out the wines lacking a price tag in the data set\n",
    "reviews.loc[reviews['price'].notnull()] # isnull() is opposite to notnull()"
   ]
  },
  {
   "cell_type": "markdown",
   "metadata": {},
   "source": [
    "## Summary Functions and Maps Reference"
   ]
  },
  {
   "cell_type": "code",
   "execution_count": null,
   "metadata": {},
   "outputs": [],
   "source": [
    "import pandas as pd\n",
    "import numpy as np\n",
    "\n",
    "pd.set_option('max_rows', 10)\n",
    "df = pd.read_csv('winemag-data-130k-v2.csv', index_col=0)\n",
    "df.head()"
   ]
  },
  {
   "cell_type": "code",
   "execution_count": null,
   "metadata": {},
   "outputs": [],
   "source": [
    "# to get some high level summary of a given column (works well with numerical data)\n",
    "df.points.describe()"
   ]
  },
  {
   "cell_type": "code",
   "execution_count": null,
   "metadata": {},
   "outputs": [],
   "source": [
    "# same as above for string data\n",
    "df['country'].describe()"
   ]
  },
  {
   "cell_type": "code",
   "execution_count": null,
   "metadata": {},
   "outputs": [],
   "source": [
    "# to get a mean of the points\n",
    "df['points'].mean()"
   ]
  },
  {
   "cell_type": "code",
   "execution_count": null,
   "metadata": {},
   "outputs": [],
   "source": [
    "# to get a sum of the points\n",
    "df['points'].sum()"
   ]
  },
  {
   "cell_type": "code",
   "execution_count": null,
   "metadata": {},
   "outputs": [],
   "source": [
    "# to get a list of unique values (for eg. country names)\n",
    "df['country'].unique()"
   ]
  },
  {
   "cell_type": "code",
   "execution_count": null,
   "metadata": {},
   "outputs": [],
   "source": [
    "# to get a list of unique values and a count of the unique values\n",
    "df['country'].value_counts()"
   ]
  },
  {
   "cell_type": "code",
   "execution_count": null,
   "metadata": {},
   "outputs": [],
   "source": [
    "# a count of unique wine tasters and their count\n",
    "df['taster_name'].value_counts()"
   ]
  },
  {
   "cell_type": "code",
   "execution_count": null,
   "metadata": {},
   "outputs": [],
   "source": [
    "# using map functions we can apply some transformation (or a function call) on every value in a Series\n",
    "# map function takes a series as an input\n",
    "mean_points = df['points'].mean()\n",
    "df['points'].map(lambda p : p - mean_points) # p refers to every value in the Series \"points\""
   ]
  },
  {
   "cell_type": "code",
   "execution_count": null,
   "metadata": {},
   "outputs": [],
   "source": [
    "# using apply function we can get similar result to map function but across multiple columns\n",
    "# apply function lets us transform the data across the entire data frame\n",
    "# apply function takes a function as an input\n",
    "def mean_df(data_frame):\n",
    "    data_frame['points'] = data_frame['points'] - mean_points\n",
    "    return data_frame\n",
    "\n",
    "df.apply(mean_df, axis='columns')"
   ]
  },
  {
   "cell_type": "code",
   "execution_count": null,
   "metadata": {},
   "outputs": [],
   "source": [
    "# same as above without using map/apply function\n",
    "# this approach is faster; not necessarily preferable\n",
    "mean_p = df['points'].mean()\n",
    "df['points'] - mean_p"
   ]
  },
  {
   "cell_type": "code",
   "execution_count": null,
   "metadata": {},
   "outputs": [],
   "source": [
    "# combining country names and regions\n",
    "df['country'] + '-' + df['region_1']"
   ]
  },
  {
   "cell_type": "markdown",
   "metadata": {},
   "source": [
    "## Grouping and Sorting"
   ]
  },
  {
   "cell_type": "code",
   "execution_count": null,
   "metadata": {},
   "outputs": [],
   "source": [
    "import pandas as pd\n",
    "\n",
    "df = pd.read_csv('winemag-data-130k-v2.csv')\n",
    "pd.set_option('display.max_rows', 10)\n",
    "df.head()"
   ]
  },
  {
   "cell_type": "code",
   "execution_count": null,
   "metadata": {},
   "outputs": [],
   "source": [
    "# group by points and display the count of each group \n",
    "df.groupby('points')['points'].count()\n",
    "# df.groupby('points').points.count() # another way to achieve the same"
   ]
  },
  {
   "cell_type": "code",
   "execution_count": null,
   "metadata": {},
   "outputs": [],
   "source": [
    "# group by country names and display the counts of each country\n",
    "df.groupby('country')['country'].count()"
   ]
  },
  {
   "cell_type": "code",
   "execution_count": null,
   "metadata": {},
   "outputs": [],
   "source": [
    "# group by country names and display the points count of each group\n",
    "df.groupby('country')['points'].value_counts() # groups by country names and then displays the counts of the unique points in each group"
   ]
  },
  {
   "cell_type": "code",
   "execution_count": null,
   "metadata": {},
   "outputs": [],
   "source": [
    "# get the price of the cheapest wine in each country\n",
    "df.groupby('country')['price'].min()"
   ]
  },
  {
   "cell_type": "code",
   "execution_count": null,
   "metadata": {},
   "outputs": [],
   "source": [
    "# get the average points of wine in each country\n",
    "df.groupby('country')['points'].mean()"
   ]
  },
  {
   "cell_type": "code",
   "execution_count": null,
   "metadata": {},
   "outputs": [],
   "source": [
    "# groupby function can also be used in conjunction with apply function\n",
    "# display the names of the first wine reviewed from each country in the dataset\n",
    "df.groupby('country').apply(lambda p: p['title'].iloc[0])"
   ]
  },
  {
   "cell_type": "code",
   "execution_count": null,
   "metadata": {},
   "outputs": [],
   "source": [
    "# display the best wines by country and province\n",
    "df.groupby(['country', 'province']).apply(lambda p: p.loc[p['points'].idxmax()])"
   ]
  },
  {
   "cell_type": "code",
   "execution_count": null,
   "metadata": {},
   "outputs": [],
   "source": [
    "# use the aggregate function to run a bunch of functions on the data frame simultaneously\n",
    "# perform statistical analysis (of price) on the data frame country wise\n",
    "df.groupby(['country'])['price'].agg([len, max, min])"
   ]
  },
  {
   "cell_type": "code",
   "execution_count": null,
   "metadata": {},
   "outputs": [],
   "source": [
    "# perform statistical analysis (of points) on the data frame country wise\n",
    "df.groupby(['country'])['points'].agg([len, max, min])"
   ]
  },
  {
   "cell_type": "code",
   "execution_count": null,
   "metadata": {},
   "outputs": [],
   "source": [
    "# sort the data frame by points; default is ascending order\n",
    "df.sort_values(by='points')"
   ]
  },
  {
   "cell_type": "code",
   "execution_count": null,
   "metadata": {},
   "outputs": [],
   "source": [
    "# sort the data frame by price; decreasing order\n",
    "df.sort_values(by='price', ascending=False)"
   ]
  },
  {
   "cell_type": "code",
   "execution_count": null,
   "metadata": {},
   "outputs": [],
   "source": [
    "# sort by points and price\n",
    "df.sort_values(by=['price', 'points'])"
   ]
  },
  {
   "cell_type": "code",
   "execution_count": null,
   "metadata": {},
   "outputs": [],
   "source": [
    "# sort by index\n",
    "df.sort_index()"
   ]
  },
  {
   "cell_type": "markdown",
   "metadata": {},
   "source": [
    "## Data Types and Missing Data Reference"
   ]
  },
  {
   "cell_type": "code",
   "execution_count": null,
   "metadata": {},
   "outputs": [],
   "source": [
    "import pandas as pd\n",
    "\n",
    "df = pd.read_csv('winemag-data-130k-v2.csv', index_col=0)\n",
    "pd.set_option('max_rows', 10)\n",
    "df.head()"
   ]
  },
  {
   "cell_type": "code",
   "execution_count": null,
   "metadata": {},
   "outputs": [],
   "source": [
    "# check the data type of the price column\n",
    "df['price'].dtype"
   ]
  },
  {
   "cell_type": "code",
   "execution_count": null,
   "metadata": {},
   "outputs": [],
   "source": [
    "# check the data type of the country column\n",
    "df['country'].dtype"
   ]
  },
  {
   "cell_type": "code",
   "execution_count": null,
   "metadata": {},
   "outputs": [],
   "source": [
    "# check the data type of the description column\n",
    "df['description'].dtype"
   ]
  },
  {
   "cell_type": "code",
   "execution_count": null,
   "metadata": {},
   "outputs": [],
   "source": [
    "# check the data type of the points column\n",
    "df['points'].dtype"
   ]
  },
  {
   "cell_type": "code",
   "execution_count": null,
   "metadata": {},
   "outputs": [],
   "source": [
    "# check the data type of every column in the dataset\n",
    "df.dtypes"
   ]
  },
  {
   "cell_type": "code",
   "execution_count": null,
   "metadata": {},
   "outputs": [],
   "source": [
    "# convert the points column from int64 to float64\n",
    "df['points'].astype('float64')"
   ]
  },
  {
   "cell_type": "code",
   "execution_count": null,
   "metadata": {},
   "outputs": [],
   "source": [
    "# check the data type of the index\n",
    "df.index.dtype"
   ]
  },
  {
   "cell_type": "code",
   "execution_count": null,
   "metadata": {},
   "outputs": [],
   "source": [
    "# Missing entires are specified as NaN\n",
    "# They are always assigned float64 dtype\n",
    "\n",
    "# select the rows where the country name is null\n",
    "df[df['country'].isnull()]"
   ]
  },
  {
   "cell_type": "code",
   "execution_count": null,
   "metadata": {},
   "outputs": [],
   "source": [
    "# another way of doing the above\n",
    "df.loc[df['country'].isnull()]"
   ]
  },
  {
   "cell_type": "code",
   "execution_count": null,
   "metadata": {},
   "outputs": [],
   "source": [
    "# Fill NaN values (eg. region_2) with something else\n",
    "df['region_2'].fillna('Unknown')"
   ]
  },
  {
   "cell_type": "code",
   "execution_count": null,
   "metadata": {},
   "outputs": [],
   "source": [
    "# replace a non null value with some other data (eg. change country Italy to Italia)\n",
    "df['country'].replace('Italy', 'Italia')"
   ]
  },
  {
   "cell_type": "markdown",
   "metadata": {},
   "source": [
    "## Renaming and Combining"
   ]
  },
  {
   "cell_type": "code",
   "execution_count": null,
   "metadata": {},
   "outputs": [],
   "source": [
    "import pandas as pd\n",
    "pd.set_option('max_rows', 10)\n",
    "\n",
    "reviews = pd.read_csv('winemag-data-130k-v2.csv', index_col=0)\n",
    "reviews.head()"
   ]
  },
  {
   "cell_type": "code",
   "execution_count": null,
   "metadata": {},
   "outputs": [],
   "source": [
    "# rename the column 'points' to 'score'\n",
    "reviews.rename(columns={'points' : 'score'})"
   ]
  },
  {
   "cell_type": "code",
   "execution_count": null,
   "metadata": {},
   "outputs": [],
   "source": [
    "# make the above changes permanent\n",
    "reviews.rename(columns={'points' : 'score'}, inplace=True) # use the inplace=True parameter setting to make changes permanent"
   ]
  },
  {
   "cell_type": "code",
   "execution_count": null,
   "metadata": {},
   "outputs": [],
   "source": [
    "# rename the indexes\n",
    "reviews.rename(index={0 : 'first_index', 1 : 'second_index'})"
   ]
  },
  {
   "cell_type": "code",
   "execution_count": null,
   "metadata": {},
   "outputs": [],
   "source": [
    "# rename the column axis as \"fields\"\n",
    "reviews.rename_axis('fields', axis='columns')"
   ]
  },
  {
   "cell_type": "code",
   "execution_count": null,
   "metadata": {},
   "outputs": [],
   "source": [
    "# rename column axis as \"fields\" and row axis as \"indexes\"\n",
    "reviews.rename_axis('fields', axis='columns').rename_axis('indexes', axis='rows')"
   ]
  },
  {
   "cell_type": "code",
   "execution_count": null,
   "metadata": {},
   "outputs": [],
   "source": [
    "# rename the rows as \"indexes\" and make changes permanent\n",
    "reviews.rename_axis('indexes', axis='rows', inplace=True)"
   ]
  },
  {
   "cell_type": "code",
   "execution_count": null,
   "metadata": {},
   "outputs": [],
   "source": [
    "reviews.head()"
   ]
  },
  {
   "cell_type": "code",
   "execution_count": null,
   "metadata": {},
   "outputs": [],
   "source": [
    "# combining operations : concat, join, merge\n",
    "\n",
    "import pandas as pd\n",
    "pd.set_option('max_rows', 10)\n",
    "\n",
    "canadian_youtube = pd.read_csv('CAvideos.csv')\n",
    "british_youtube = pd.read_csv('GBvideos.csv')"
   ]
  },
  {
   "cell_type": "code",
   "execution_count": null,
   "metadata": {},
   "outputs": [],
   "source": [
    "# display the Canadian dataset\n",
    "canadian_youtube.head()"
   ]
  },
  {
   "cell_type": "code",
   "execution_count": null,
   "metadata": {},
   "outputs": [],
   "source": [
    "# display the British dataset\n",
    "british_youtube.head()"
   ]
  },
  {
   "cell_type": "code",
   "execution_count": null,
   "metadata": {},
   "outputs": [],
   "source": [
    "print('canadian dataset size : ', canadian_youtube.shape)\n",
    "print('british dataset size : ', british_youtube.shape)"
   ]
  },
  {
   "cell_type": "code",
   "execution_count": null,
   "metadata": {},
   "outputs": [],
   "source": [
    "# concatenate both the British and the Canadian datasets\n",
    "df = pd.concat([canadian_youtube, british_youtube])\n",
    "df.head()"
   ]
  },
  {
   "cell_type": "code",
   "execution_count": null,
   "metadata": {},
   "outputs": [],
   "source": [
    "print('concatenated dataset size : ', df.shape)"
   ]
  },
  {
   "cell_type": "code",
   "execution_count": null,
   "metadata": {},
   "outputs": [],
   "source": [
    "# index the datasets by taking the columns \"title\" and \"trending date\" together\n",
    "left = canadian_youtube.set_index(['title', 'trending_date'])\n",
    "right = british_youtube.set_index(['title', 'trending_date'])"
   ]
  },
  {
   "cell_type": "code",
   "execution_count": null,
   "metadata": {},
   "outputs": [],
   "source": [
    "# get videos trending on the same day in both Canada and UK\n",
    "left.join(right, lsuffix='_CAN', rsuffix='_UK') # suffix commands to distinguish between the column names for Canada and UK"
   ]
  },
  {
   "cell_type": "markdown",
   "metadata": {},
   "source": [
    "## Method Chaining"
   ]
  },
  {
   "cell_type": "code",
   "execution_count": null,
   "metadata": {},
   "outputs": [],
   "source": [
    "import pandas as pd\n",
    "pd.set_option('max_rows', 7)\n",
    "\n",
    "wine = pd.read_csv('winemag-data-130k-v2.csv', index_col=0)\n",
    "ramen = pd.read_csv('ramen-ratings.csv', index_col=0)"
   ]
  },
  {
   "cell_type": "code",
   "execution_count": null,
   "metadata": {},
   "outputs": [],
   "source": [
    "wine.head()"
   ]
  },
  {
   "cell_type": "code",
   "execution_count": null,
   "metadata": {},
   "outputs": [],
   "source": [
    "# perform data cleaning and dropping operation\n",
    "stars = ramen['Stars']\n",
    "na_stars = stars.replace('Unrated', None).dropna()\n",
    "float_stars = na_stars.astype('float64')\n",
    "float_stars.head()"
   ]
  },
  {
   "cell_type": "code",
   "execution_count": null,
   "metadata": {},
   "outputs": [],
   "source": [
    "# chain the above sequence of operations\n",
    "(ramen['Stars']\n",
    ".replace('Unrated', None)\n",
    ".dropna()\n",
    ".astype('float64')\n",
    ".head())"
   ]
  },
  {
   "cell_type": "code",
   "execution_count": null,
   "metadata": {},
   "outputs": [],
   "source": [
    "wine.head()"
   ]
  },
  {
   "cell_type": "code",
   "execution_count": null,
   "metadata": {},
   "outputs": [],
   "source": [
    "# replace the NaN values in 'region_2' with province of that region (make the changes permanent)\n",
    "# use the assign() function\n",
    "wine = wine.assign(region_2 = wine.apply(lambda x: x['region_2'] if pd.notnull(x['region_2']) else x['province'], axis='columns'))\n",
    "wine.head()"
   ]
  },
  {
   "cell_type": "code",
   "execution_count": null,
   "metadata": {},
   "outputs": [],
   "source": [
    "# replace the values where the price is NaN to 0 (make changes permanent)\n",
    "wine = wine.assign(price = wine.apply(lambda x: x['price'] if pd.notnull(x['price']) else 0, axis='columns'))\n",
    "wine.head()"
   ]
  }
 ],
 "metadata": {
  "kernelspec": {
   "display_name": "Python 3",
   "language": "python",
   "name": "python3"
  },
  "language_info": {
   "codemirror_mode": {
    "name": "ipython",
    "version": 3
   },
   "file_extension": ".py",
   "mimetype": "text/x-python",
   "name": "python",
   "nbconvert_exporter": "python",
   "pygments_lexer": "ipython3",
   "version": "3.6.7"
  }
 },
 "nbformat": 4,
 "nbformat_minor": 2
}
